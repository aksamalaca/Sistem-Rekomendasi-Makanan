{
  "cells": [
    {
      "cell_type": "markdown",
      "metadata": {
        "id": "wFz46swzpM2k"
      },
      "source": [
        "# Import Library"
      ]
    },
    {
      "cell_type": "code",
      "execution_count": 1,
      "metadata": {
        "colab": {
          "base_uri": "https://localhost:8080/"
        },
        "id": "hwjbrmM2Fx8r",
        "outputId": "5df8b83c-7c11-4e11-86a7-621d373fefcf"
      },
      "outputs": [
        {
          "output_type": "stream",
          "name": "stdout",
          "text": [
            "Requirement already satisfied: kaggle in /usr/local/lib/python3.11/dist-packages (1.7.4.5)\n",
            "Requirement already satisfied: bleach in /usr/local/lib/python3.11/dist-packages (from kaggle) (6.2.0)\n",
            "Requirement already satisfied: certifi>=14.05.14 in /usr/local/lib/python3.11/dist-packages (from kaggle) (2025.4.26)\n",
            "Requirement already satisfied: charset-normalizer in /usr/local/lib/python3.11/dist-packages (from kaggle) (3.4.2)\n",
            "Requirement already satisfied: idna in /usr/local/lib/python3.11/dist-packages (from kaggle) (3.10)\n",
            "Requirement already satisfied: protobuf in /usr/local/lib/python3.11/dist-packages (from kaggle) (5.29.5)\n",
            "Requirement already satisfied: python-dateutil>=2.5.3 in /usr/local/lib/python3.11/dist-packages (from kaggle) (2.9.0.post0)\n",
            "Requirement already satisfied: python-slugify in /usr/local/lib/python3.11/dist-packages (from kaggle) (8.0.4)\n",
            "Requirement already satisfied: requests in /usr/local/lib/python3.11/dist-packages (from kaggle) (2.32.3)\n",
            "Requirement already satisfied: setuptools>=21.0.0 in /usr/local/lib/python3.11/dist-packages (from kaggle) (75.2.0)\n",
            "Requirement already satisfied: six>=1.10 in /usr/local/lib/python3.11/dist-packages (from kaggle) (1.17.0)\n",
            "Requirement already satisfied: text-unidecode in /usr/local/lib/python3.11/dist-packages (from kaggle) (1.3)\n",
            "Requirement already satisfied: tqdm in /usr/local/lib/python3.11/dist-packages (from kaggle) (4.67.1)\n",
            "Requirement already satisfied: urllib3>=1.15.1 in /usr/local/lib/python3.11/dist-packages (from kaggle) (2.4.0)\n",
            "Requirement already satisfied: webencodings in /usr/local/lib/python3.11/dist-packages (from kaggle) (0.5.1)\n"
          ]
        }
      ],
      "source": [
        "!pip install kaggle"
      ]
    },
    {
      "cell_type": "markdown",
      "metadata": {
        "id": "cBGsZFcDF_pK"
      },
      "source": [
        "**Insight:**\n",
        "\n",
        "Perintah `!pip install kaggle` digunakan di Google Colab untuk menginstal library kaggle, yang memungkinkan kamu mengakses dan mengunduh dataset dari Kaggle langsung lewat kode Python."
      ]
    },
    {
      "cell_type": "code",
      "execution_count": 2,
      "metadata": {
        "id": "ykHwCsv3jXiG"
      },
      "outputs": [],
      "source": [
        "import pandas as pd\n",
        "import shutil\n",
        "import zipfile\n",
        "import os\n",
        "import pathlib\n",
        "from pathlib import Path\n",
        "import warnings\n",
        "import numpy as np\n",
        "from google.colab import files\n",
        "\n",
        "warnings.filterwarnings('ignore')"
      ]
    },
    {
      "cell_type": "markdown",
      "metadata": {
        "id": "NW1hfY2iGD3U"
      },
      "source": [
        "**Insight:**\n",
        "* `pandas`: Untuk manipulasi dan analisis data (DataFrame)\n",
        "* `shutil`: Untuk operasi file/folder seperti copy dan move\n",
        "* `zipfile`: Untuk mengekstrak file ZIP\n",
        "* `os`: Untuk operasi sistem file dan direktori\n",
        "* `pathlib`: Untuk memanipulasi path file\n",
        "* `from pathlib import Path`: Untuk pendekatan OOP dalam manipulasi path\n",
        "* `warnings`: Untuk menangani/mematikan peringatan\n",
        "* `numpy`: Untuk komputasi numerik (array, statistik, dll)\n",
        "* `from google.colab import files`: Untuk upload/download file di Google Colab\n",
        "* `warnings.filterwarnings('ignore')`: Mematikan peringatan agar output lebih bersih"
      ]
    },
    {
      "cell_type": "code",
      "execution_count": 3,
      "metadata": {
        "colab": {
          "base_uri": "https://localhost:8080/",
          "height": 91
        },
        "id": "3UQ-8T4jkH6c",
        "outputId": "473acca4-5bbf-4fd2-b818-b5522a59160d"
      },
      "outputs": [
        {
          "output_type": "display_data",
          "data": {
            "text/plain": [
              "<IPython.core.display.HTML object>"
            ],
            "text/html": [
              "\n",
              "     <input type=\"file\" id=\"files-2c18266d-ab1f-4c94-b06b-5b1307a60db4\" name=\"files[]\" multiple disabled\n",
              "        style=\"border:none\" />\n",
              "     <output id=\"result-2c18266d-ab1f-4c94-b06b-5b1307a60db4\">\n",
              "      Upload widget is only available when the cell has been executed in the\n",
              "      current browser session. Please rerun this cell to enable.\n",
              "      </output>\n",
              "      <script>// Copyright 2017 Google LLC\n",
              "//\n",
              "// Licensed under the Apache License, Version 2.0 (the \"License\");\n",
              "// you may not use this file except in compliance with the License.\n",
              "// You may obtain a copy of the License at\n",
              "//\n",
              "//      http://www.apache.org/licenses/LICENSE-2.0\n",
              "//\n",
              "// Unless required by applicable law or agreed to in writing, software\n",
              "// distributed under the License is distributed on an \"AS IS\" BASIS,\n",
              "// WITHOUT WARRANTIES OR CONDITIONS OF ANY KIND, either express or implied.\n",
              "// See the License for the specific language governing permissions and\n",
              "// limitations under the License.\n",
              "\n",
              "/**\n",
              " * @fileoverview Helpers for google.colab Python module.\n",
              " */\n",
              "(function(scope) {\n",
              "function span(text, styleAttributes = {}) {\n",
              "  const element = document.createElement('span');\n",
              "  element.textContent = text;\n",
              "  for (const key of Object.keys(styleAttributes)) {\n",
              "    element.style[key] = styleAttributes[key];\n",
              "  }\n",
              "  return element;\n",
              "}\n",
              "\n",
              "// Max number of bytes which will be uploaded at a time.\n",
              "const MAX_PAYLOAD_SIZE = 100 * 1024;\n",
              "\n",
              "function _uploadFiles(inputId, outputId) {\n",
              "  const steps = uploadFilesStep(inputId, outputId);\n",
              "  const outputElement = document.getElementById(outputId);\n",
              "  // Cache steps on the outputElement to make it available for the next call\n",
              "  // to uploadFilesContinue from Python.\n",
              "  outputElement.steps = steps;\n",
              "\n",
              "  return _uploadFilesContinue(outputId);\n",
              "}\n",
              "\n",
              "// This is roughly an async generator (not supported in the browser yet),\n",
              "// where there are multiple asynchronous steps and the Python side is going\n",
              "// to poll for completion of each step.\n",
              "// This uses a Promise to block the python side on completion of each step,\n",
              "// then passes the result of the previous step as the input to the next step.\n",
              "function _uploadFilesContinue(outputId) {\n",
              "  const outputElement = document.getElementById(outputId);\n",
              "  const steps = outputElement.steps;\n",
              "\n",
              "  const next = steps.next(outputElement.lastPromiseValue);\n",
              "  return Promise.resolve(next.value.promise).then((value) => {\n",
              "    // Cache the last promise value to make it available to the next\n",
              "    // step of the generator.\n",
              "    outputElement.lastPromiseValue = value;\n",
              "    return next.value.response;\n",
              "  });\n",
              "}\n",
              "\n",
              "/**\n",
              " * Generator function which is called between each async step of the upload\n",
              " * process.\n",
              " * @param {string} inputId Element ID of the input file picker element.\n",
              " * @param {string} outputId Element ID of the output display.\n",
              " * @return {!Iterable<!Object>} Iterable of next steps.\n",
              " */\n",
              "function* uploadFilesStep(inputId, outputId) {\n",
              "  const inputElement = document.getElementById(inputId);\n",
              "  inputElement.disabled = false;\n",
              "\n",
              "  const outputElement = document.getElementById(outputId);\n",
              "  outputElement.innerHTML = '';\n",
              "\n",
              "  const pickedPromise = new Promise((resolve) => {\n",
              "    inputElement.addEventListener('change', (e) => {\n",
              "      resolve(e.target.files);\n",
              "    });\n",
              "  });\n",
              "\n",
              "  const cancel = document.createElement('button');\n",
              "  inputElement.parentElement.appendChild(cancel);\n",
              "  cancel.textContent = 'Cancel upload';\n",
              "  const cancelPromise = new Promise((resolve) => {\n",
              "    cancel.onclick = () => {\n",
              "      resolve(null);\n",
              "    };\n",
              "  });\n",
              "\n",
              "  // Wait for the user to pick the files.\n",
              "  const files = yield {\n",
              "    promise: Promise.race([pickedPromise, cancelPromise]),\n",
              "    response: {\n",
              "      action: 'starting',\n",
              "    }\n",
              "  };\n",
              "\n",
              "  cancel.remove();\n",
              "\n",
              "  // Disable the input element since further picks are not allowed.\n",
              "  inputElement.disabled = true;\n",
              "\n",
              "  if (!files) {\n",
              "    return {\n",
              "      response: {\n",
              "        action: 'complete',\n",
              "      }\n",
              "    };\n",
              "  }\n",
              "\n",
              "  for (const file of files) {\n",
              "    const li = document.createElement('li');\n",
              "    li.append(span(file.name, {fontWeight: 'bold'}));\n",
              "    li.append(span(\n",
              "        `(${file.type || 'n/a'}) - ${file.size} bytes, ` +\n",
              "        `last modified: ${\n",
              "            file.lastModifiedDate ? file.lastModifiedDate.toLocaleDateString() :\n",
              "                                    'n/a'} - `));\n",
              "    const percent = span('0% done');\n",
              "    li.appendChild(percent);\n",
              "\n",
              "    outputElement.appendChild(li);\n",
              "\n",
              "    const fileDataPromise = new Promise((resolve) => {\n",
              "      const reader = new FileReader();\n",
              "      reader.onload = (e) => {\n",
              "        resolve(e.target.result);\n",
              "      };\n",
              "      reader.readAsArrayBuffer(file);\n",
              "    });\n",
              "    // Wait for the data to be ready.\n",
              "    let fileData = yield {\n",
              "      promise: fileDataPromise,\n",
              "      response: {\n",
              "        action: 'continue',\n",
              "      }\n",
              "    };\n",
              "\n",
              "    // Use a chunked sending to avoid message size limits. See b/62115660.\n",
              "    let position = 0;\n",
              "    do {\n",
              "      const length = Math.min(fileData.byteLength - position, MAX_PAYLOAD_SIZE);\n",
              "      const chunk = new Uint8Array(fileData, position, length);\n",
              "      position += length;\n",
              "\n",
              "      const base64 = btoa(String.fromCharCode.apply(null, chunk));\n",
              "      yield {\n",
              "        response: {\n",
              "          action: 'append',\n",
              "          file: file.name,\n",
              "          data: base64,\n",
              "        },\n",
              "      };\n",
              "\n",
              "      let percentDone = fileData.byteLength === 0 ?\n",
              "          100 :\n",
              "          Math.round((position / fileData.byteLength) * 100);\n",
              "      percent.textContent = `${percentDone}% done`;\n",
              "\n",
              "    } while (position < fileData.byteLength);\n",
              "  }\n",
              "\n",
              "  // All done.\n",
              "  yield {\n",
              "    response: {\n",
              "      action: 'complete',\n",
              "    }\n",
              "  };\n",
              "}\n",
              "\n",
              "scope.google = scope.google || {};\n",
              "scope.google.colab = scope.google.colab || {};\n",
              "scope.google.colab._files = {\n",
              "  _uploadFiles,\n",
              "  _uploadFilesContinue,\n",
              "};\n",
              "})(self);\n",
              "</script> "
            ]
          },
          "metadata": {}
        },
        {
          "output_type": "stream",
          "name": "stdout",
          "text": [
            "Saving kaggle.json to kaggle.json\n",
            "chmod: cannot access '/root/.kaggle/kaggle.json': No such file or directory\n"
          ]
        }
      ],
      "source": [
        "files.upload()\n",
        "!chmod 600 ~/.kaggle/kaggle.json\n",
        "os.makedirs(os.path.expanduser('~/.kaggle'), exist_ok=True)\n",
        "os.rename('kaggle.json', os.path.expanduser('~/.kaggle/kaggle.json'))"
      ]
    },
    {
      "cell_type": "markdown",
      "metadata": {
        "id": "R3ZyDaeEGIVe"
      },
      "source": [
        "**Insight:**\n",
        "\n",
        "Kode tersebut digunakan untuk mengatur akses ke API Kaggle di Google Colab. Pertama, `files.upload()` untuk mengunggah file `kaggle.json` (yang berisi kredensial API Kaggle). Kemudian, direktori `~/.kaggle` dibuat jika belum ada. File kaggle.json yang diunggah dipindahkan ke direktori tersebut, dan izin file diatur dengan chmod 600 agar hanya dapat diakses oleh pemilik, sesuai dengan persyaratan keamanan Kaggle."
      ]
    },
    {
      "cell_type": "markdown",
      "metadata": {
        "id": "zzzvK9uPkOVw"
      },
      "source": [
        "# Data Understanding"
      ]
    },
    {
      "cell_type": "code",
      "execution_count": 4,
      "metadata": {
        "colab": {
          "base_uri": "https://localhost:8080/"
        },
        "id": "3gJjyjfhkQVz",
        "outputId": "a56bcdad-7983-4084-e1d2-939af632550b"
      },
      "outputs": [
        {
          "output_type": "stream",
          "name": "stdout",
          "text": [
            "Warning: Your Kaggle API key is readable by other users on this system! To fix this, you can run 'chmod 600 /root/.kaggle/kaggle.json'\n",
            "Dataset URL: https://www.kaggle.com/datasets/schemersays/food-recommendation-system\n",
            "License(s): unknown\n",
            "Downloading food-recommendation-system.zip to /content\n",
            "  0% 0.00/24.8k [00:00<?, ?B/s]\n",
            "100% 24.8k/24.8k [00:00<00:00, 80.5MB/s]\n"
          ]
        }
      ],
      "source": [
        "!kaggle datasets download -d schemersays/food-recommendation-system"
      ]
    },
    {
      "cell_type": "markdown",
      "metadata": {
        "id": "VLFjx6nxGKXP"
      },
      "source": [
        "**Insight:**\n",
        "\n",
        "Perintah `!kaggle datasets download -d schemersays/food-recommendation-system` digunakan di lingkungan seperti Google Colab untuk mengunduh dataset \"Food Recommendation System\" yang diunggah oleh pengguna Kaggle bernama schemersays. Dataset ini biasanya berisi informasi terkait makanan, preferensi pengguna, atau rating makanan yang dapat digunakan untuk membangun sistem rekomendasi makanan berbasis machine learning atau analisis data."
      ]
    },
    {
      "cell_type": "code",
      "execution_count": 5,
      "metadata": {
        "colab": {
          "base_uri": "https://localhost:8080/"
        },
        "id": "wStT6tk8kS_H",
        "outputId": "a3952da7-24a8-4533-cc03-035645a443bb"
      },
      "outputs": [
        {
          "output_type": "stream",
          "name": "stdout",
          "text": [
            "Archive:  food-recommendation-system.zip\n",
            "  inflating: /content/food-recommendation-system/1662574418893344.csv  \n",
            "  inflating: /content/food-recommendation-system/ratings.csv  \n"
          ]
        }
      ],
      "source": [
        "!unzip food-recommendation-system.zip -d /content/food-recommendation-system"
      ]
    },
    {
      "cell_type": "markdown",
      "metadata": {
        "id": "EOQeD9x4GMR9"
      },
      "source": [
        "**Insight:**\n",
        "\n",
        "Perintah `!unzip food-recommendation-system.zip -d /content/food-recommendation-system` digunakan untuk mengekstrak (unzip) file arsip bernama food-recommendation-system.zip ke dalam direktori `/content/food-recommendation-system` di lingkungan Google Colab. Setelah dieksekusi, semua file dan folder di dalam arsip ZIP akan tersedia di folder tujuan tersebut untuk digunakan lebih lanjut dalam proyek."
      ]
    },
    {
      "cell_type": "code",
      "execution_count": 6,
      "metadata": {
        "id": "l5h-HCeOkTui"
      },
      "outputs": [],
      "source": [
        "# Membaca file\n",
        "foods = pd.read_csv('/content/food-recommendation-system/1662574418893344.csv')\n",
        "ratings = pd.read_csv('/content/food-recommendation-system/ratings.csv')"
      ]
    },
    {
      "cell_type": "markdown",
      "metadata": {
        "id": "MLFELrWwHAS4"
      },
      "source": [
        "**Insight:**\n",
        "\n",
        "* Baris pertama membaca data makanan ke dalam DataFrame foods (1662574418893344.csv)\n",
        "* Baris kedua membaca data rating makanan ke dalam DataFrame ratings (ratings.csv)."
      ]
    },
    {
      "cell_type": "code",
      "execution_count": 7,
      "metadata": {
        "colab": {
          "base_uri": "https://localhost:8080/"
        },
        "id": "Zj4NCD-gkZEp",
        "outputId": "aab23d1a-fdb0-463e-e002-7d473cc6e9bc"
      },
      "outputs": [
        {
          "output_type": "stream",
          "name": "stdout",
          "text": [
            "Index(['Food_ID', 'Name', 'C_Type', 'Veg_Non', 'Describe'], dtype='object')\n",
            "Index(['User_ID', 'Food_ID', 'Rating'], dtype='object')\n"
          ]
        }
      ],
      "source": [
        "print(foods.columns)\n",
        "print(ratings.columns)"
      ]
    },
    {
      "cell_type": "markdown",
      "metadata": {
        "id": "rU6OGdYVHBuh"
      },
      "source": [
        "**Insight:**\n",
        "\n",
        "Output tersebut menunjukkan nama-nama kolom dari dua DataFrame:\n",
        "\n",
        "* **`foods`** memiliki kolom:\n",
        "\n",
        "  * `Food_ID`: ID unik untuk makanan\n",
        "  * `Name`: Nama makanan\n",
        "  * `C_Type`: Jenis kategori masakan\n",
        "  * `Veg_Non`: Kategori vegetarian atau non-vegetarian\n",
        "  * `Describe`: Deskripsi makanan\n",
        "\n",
        "* **`ratings`** memiliki kolom:\n",
        "\n",
        "  * `User_ID`: ID pengguna\n",
        "  * `Food_ID`: ID makanan yang dinilai\n",
        "  * `Rating`: Nilai rating yang diberikan pengguna pada makanan tersebut"
      ]
    },
    {
      "cell_type": "code",
      "execution_count": 8,
      "metadata": {
        "colab": {
          "base_uri": "https://localhost:8080/"
        },
        "id": "fHQFsgU7kbg3",
        "outputId": "aecff4cb-36e6-427f-dd92-e23c5f418306"
      },
      "outputs": [
        {
          "output_type": "stream",
          "name": "stdout",
          "text": [
            "Jumlah makanan yang tersedia:  400\n",
            "Jumlah pengguna yang memberi rating:  101\n",
            "Jumlah makanan yang diberi rating:  310\n",
            "Jumlah total rating yang tersedia:  512\n"
          ]
        }
      ],
      "source": [
        "# Mengecek jumlah data unik\n",
        "print('Jumlah makanan yang tersedia: ', len(foods.Food_ID.unique()))\n",
        "print('Jumlah pengguna yang memberi rating: ', len(ratings.User_ID.unique()))\n",
        "print('Jumlah makanan yang diberi rating: ', len(ratings.Food_ID.unique()))\n",
        "print('Jumlah total rating yang tersedia: ', len(ratings))"
      ]
    },
    {
      "cell_type": "markdown",
      "metadata": {
        "id": "pL5WoB-GHF4P"
      },
      "source": [
        "**Insight:**\n",
        "\n",
        "Data tersebut menunjukkan:\n",
        "\n",
        "* Tersedia **400 jenis makanan** secara total.\n",
        "* **101 pengguna** memberikan rating.\n",
        "* Dari 400 makanan, hanya **310 yang diberi rating**.\n",
        "* Terdapat **512 rating** secara keseluruhan, artinya sebagian makanan dan pengguna memiliki lebih dari satu interaksi."
      ]
    },
    {
      "cell_type": "markdown",
      "metadata": {
        "id": "SdKwPWqIo122"
      },
      "source": [
        "### Foods"
      ]
    },
    {
      "cell_type": "code",
      "execution_count": 9,
      "metadata": {
        "colab": {
          "base_uri": "https://localhost:8080/"
        },
        "id": "D3SC-ST5o4EF",
        "outputId": "93466f0e-58f4-40f0-a5bf-d654f7cf5c13"
      },
      "outputs": [
        {
          "output_type": "stream",
          "name": "stdout",
          "text": [
            "<class 'pandas.core.frame.DataFrame'>\n",
            "RangeIndex: 400 entries, 0 to 399\n",
            "Data columns (total 5 columns):\n",
            " #   Column    Non-Null Count  Dtype \n",
            "---  ------    --------------  ----- \n",
            " 0   Food_ID   400 non-null    int64 \n",
            " 1   Name      400 non-null    object\n",
            " 2   C_Type    400 non-null    object\n",
            " 3   Veg_Non   400 non-null    object\n",
            " 4   Describe  400 non-null    object\n",
            "dtypes: int64(1), object(4)\n",
            "memory usage: 15.8+ KB\n"
          ]
        }
      ],
      "source": [
        "foods.info()"
      ]
    },
    {
      "cell_type": "markdown",
      "metadata": {
        "id": "fX0fLiLxHHRf"
      },
      "source": [
        "**Insight:**\n",
        "\n",
        "Dataset `foods` terdiri dari 400 baris dan 5 kolom. Tipe data mencakup 1 kolom bertipe integer (`Food_ID`) dan 4 kolom bertipe objek (teks), yaitu `Name`, `C_Type`, `Veg_Non`, dan `Describe`. Tidak ada nilai yang hilang (null) di semua kolom."
      ]
    },
    {
      "cell_type": "code",
      "execution_count": 10,
      "metadata": {
        "colab": {
          "base_uri": "https://localhost:8080/",
          "height": 293
        },
        "id": "qKHdc34Ko7Pb",
        "outputId": "ab9392d1-587d-4c46-c80c-3065f2941a97"
      },
      "outputs": [
        {
          "output_type": "execute_result",
          "data": {
            "text/plain": [
              "   Food_ID                  Name        C_Type  Veg_Non  \\\n",
              "0        1   summer squash salad  Healthy Food      veg   \n",
              "1        2  chicken minced salad  Healthy Food  non-veg   \n",
              "2        3  sweet chilli almonds         Snack      veg   \n",
              "3        4       tricolour salad  Healthy Food      veg   \n",
              "4        5        christmas cake       Dessert      veg   \n",
              "\n",
              "                                            Describe  \n",
              "0  white balsamic vinegar, lemon juice, lemon rin...  \n",
              "1  olive oil, chicken mince, garlic (minced), oni...  \n",
              "2  almonds whole, egg white, curry leaves, salt, ...  \n",
              "3  vinegar, honey/sugar, soy sauce, salt, garlic ...  \n",
              "4  christmas dry fruits (pre-soaked), orange zest...  "
            ],
            "text/html": [
              "\n",
              "  <div id=\"df-46e3aa69-fda4-4fb8-b491-63bed2d9fc0b\" class=\"colab-df-container\">\n",
              "    <div>\n",
              "<style scoped>\n",
              "    .dataframe tbody tr th:only-of-type {\n",
              "        vertical-align: middle;\n",
              "    }\n",
              "\n",
              "    .dataframe tbody tr th {\n",
              "        vertical-align: top;\n",
              "    }\n",
              "\n",
              "    .dataframe thead th {\n",
              "        text-align: right;\n",
              "    }\n",
              "</style>\n",
              "<table border=\"1\" class=\"dataframe\">\n",
              "  <thead>\n",
              "    <tr style=\"text-align: right;\">\n",
              "      <th></th>\n",
              "      <th>Food_ID</th>\n",
              "      <th>Name</th>\n",
              "      <th>C_Type</th>\n",
              "      <th>Veg_Non</th>\n",
              "      <th>Describe</th>\n",
              "    </tr>\n",
              "  </thead>\n",
              "  <tbody>\n",
              "    <tr>\n",
              "      <th>0</th>\n",
              "      <td>1</td>\n",
              "      <td>summer squash salad</td>\n",
              "      <td>Healthy Food</td>\n",
              "      <td>veg</td>\n",
              "      <td>white balsamic vinegar, lemon juice, lemon rin...</td>\n",
              "    </tr>\n",
              "    <tr>\n",
              "      <th>1</th>\n",
              "      <td>2</td>\n",
              "      <td>chicken minced salad</td>\n",
              "      <td>Healthy Food</td>\n",
              "      <td>non-veg</td>\n",
              "      <td>olive oil, chicken mince, garlic (minced), oni...</td>\n",
              "    </tr>\n",
              "    <tr>\n",
              "      <th>2</th>\n",
              "      <td>3</td>\n",
              "      <td>sweet chilli almonds</td>\n",
              "      <td>Snack</td>\n",
              "      <td>veg</td>\n",
              "      <td>almonds whole, egg white, curry leaves, salt, ...</td>\n",
              "    </tr>\n",
              "    <tr>\n",
              "      <th>3</th>\n",
              "      <td>4</td>\n",
              "      <td>tricolour salad</td>\n",
              "      <td>Healthy Food</td>\n",
              "      <td>veg</td>\n",
              "      <td>vinegar, honey/sugar, soy sauce, salt, garlic ...</td>\n",
              "    </tr>\n",
              "    <tr>\n",
              "      <th>4</th>\n",
              "      <td>5</td>\n",
              "      <td>christmas cake</td>\n",
              "      <td>Dessert</td>\n",
              "      <td>veg</td>\n",
              "      <td>christmas dry fruits (pre-soaked), orange zest...</td>\n",
              "    </tr>\n",
              "  </tbody>\n",
              "</table>\n",
              "</div>\n",
              "    <div class=\"colab-df-buttons\">\n",
              "\n",
              "  <div class=\"colab-df-container\">\n",
              "    <button class=\"colab-df-convert\" onclick=\"convertToInteractive('df-46e3aa69-fda4-4fb8-b491-63bed2d9fc0b')\"\n",
              "            title=\"Convert this dataframe to an interactive table.\"\n",
              "            style=\"display:none;\">\n",
              "\n",
              "  <svg xmlns=\"http://www.w3.org/2000/svg\" height=\"24px\" viewBox=\"0 -960 960 960\">\n",
              "    <path d=\"M120-120v-720h720v720H120Zm60-500h600v-160H180v160Zm220 220h160v-160H400v160Zm0 220h160v-160H400v160ZM180-400h160v-160H180v160Zm440 0h160v-160H620v160ZM180-180h160v-160H180v160Zm440 0h160v-160H620v160Z\"/>\n",
              "  </svg>\n",
              "    </button>\n",
              "\n",
              "  <style>\n",
              "    .colab-df-container {\n",
              "      display:flex;\n",
              "      gap: 12px;\n",
              "    }\n",
              "\n",
              "    .colab-df-convert {\n",
              "      background-color: #E8F0FE;\n",
              "      border: none;\n",
              "      border-radius: 50%;\n",
              "      cursor: pointer;\n",
              "      display: none;\n",
              "      fill: #1967D2;\n",
              "      height: 32px;\n",
              "      padding: 0 0 0 0;\n",
              "      width: 32px;\n",
              "    }\n",
              "\n",
              "    .colab-df-convert:hover {\n",
              "      background-color: #E2EBFA;\n",
              "      box-shadow: 0px 1px 2px rgba(60, 64, 67, 0.3), 0px 1px 3px 1px rgba(60, 64, 67, 0.15);\n",
              "      fill: #174EA6;\n",
              "    }\n",
              "\n",
              "    .colab-df-buttons div {\n",
              "      margin-bottom: 4px;\n",
              "    }\n",
              "\n",
              "    [theme=dark] .colab-df-convert {\n",
              "      background-color: #3B4455;\n",
              "      fill: #D2E3FC;\n",
              "    }\n",
              "\n",
              "    [theme=dark] .colab-df-convert:hover {\n",
              "      background-color: #434B5C;\n",
              "      box-shadow: 0px 1px 3px 1px rgba(0, 0, 0, 0.15);\n",
              "      filter: drop-shadow(0px 1px 2px rgba(0, 0, 0, 0.3));\n",
              "      fill: #FFFFFF;\n",
              "    }\n",
              "  </style>\n",
              "\n",
              "    <script>\n",
              "      const buttonEl =\n",
              "        document.querySelector('#df-46e3aa69-fda4-4fb8-b491-63bed2d9fc0b button.colab-df-convert');\n",
              "      buttonEl.style.display =\n",
              "        google.colab.kernel.accessAllowed ? 'block' : 'none';\n",
              "\n",
              "      async function convertToInteractive(key) {\n",
              "        const element = document.querySelector('#df-46e3aa69-fda4-4fb8-b491-63bed2d9fc0b');\n",
              "        const dataTable =\n",
              "          await google.colab.kernel.invokeFunction('convertToInteractive',\n",
              "                                                    [key], {});\n",
              "        if (!dataTable) return;\n",
              "\n",
              "        const docLinkHtml = 'Like what you see? Visit the ' +\n",
              "          '<a target=\"_blank\" href=https://colab.research.google.com/notebooks/data_table.ipynb>data table notebook</a>'\n",
              "          + ' to learn more about interactive tables.';\n",
              "        element.innerHTML = '';\n",
              "        dataTable['output_type'] = 'display_data';\n",
              "        await google.colab.output.renderOutput(dataTable, element);\n",
              "        const docLink = document.createElement('div');\n",
              "        docLink.innerHTML = docLinkHtml;\n",
              "        element.appendChild(docLink);\n",
              "      }\n",
              "    </script>\n",
              "  </div>\n",
              "\n",
              "\n",
              "    <div id=\"df-93d1b182-ca0a-4ad8-94e3-1f04e09e57ff\">\n",
              "      <button class=\"colab-df-quickchart\" onclick=\"quickchart('df-93d1b182-ca0a-4ad8-94e3-1f04e09e57ff')\"\n",
              "                title=\"Suggest charts\"\n",
              "                style=\"display:none;\">\n",
              "\n",
              "<svg xmlns=\"http://www.w3.org/2000/svg\" height=\"24px\"viewBox=\"0 0 24 24\"\n",
              "     width=\"24px\">\n",
              "    <g>\n",
              "        <path d=\"M19 3H5c-1.1 0-2 .9-2 2v14c0 1.1.9 2 2 2h14c1.1 0 2-.9 2-2V5c0-1.1-.9-2-2-2zM9 17H7v-7h2v7zm4 0h-2V7h2v10zm4 0h-2v-4h2v4z\"/>\n",
              "    </g>\n",
              "</svg>\n",
              "      </button>\n",
              "\n",
              "<style>\n",
              "  .colab-df-quickchart {\n",
              "      --bg-color: #E8F0FE;\n",
              "      --fill-color: #1967D2;\n",
              "      --hover-bg-color: #E2EBFA;\n",
              "      --hover-fill-color: #174EA6;\n",
              "      --disabled-fill-color: #AAA;\n",
              "      --disabled-bg-color: #DDD;\n",
              "  }\n",
              "\n",
              "  [theme=dark] .colab-df-quickchart {\n",
              "      --bg-color: #3B4455;\n",
              "      --fill-color: #D2E3FC;\n",
              "      --hover-bg-color: #434B5C;\n",
              "      --hover-fill-color: #FFFFFF;\n",
              "      --disabled-bg-color: #3B4455;\n",
              "      --disabled-fill-color: #666;\n",
              "  }\n",
              "\n",
              "  .colab-df-quickchart {\n",
              "    background-color: var(--bg-color);\n",
              "    border: none;\n",
              "    border-radius: 50%;\n",
              "    cursor: pointer;\n",
              "    display: none;\n",
              "    fill: var(--fill-color);\n",
              "    height: 32px;\n",
              "    padding: 0;\n",
              "    width: 32px;\n",
              "  }\n",
              "\n",
              "  .colab-df-quickchart:hover {\n",
              "    background-color: var(--hover-bg-color);\n",
              "    box-shadow: 0 1px 2px rgba(60, 64, 67, 0.3), 0 1px 3px 1px rgba(60, 64, 67, 0.15);\n",
              "    fill: var(--button-hover-fill-color);\n",
              "  }\n",
              "\n",
              "  .colab-df-quickchart-complete:disabled,\n",
              "  .colab-df-quickchart-complete:disabled:hover {\n",
              "    background-color: var(--disabled-bg-color);\n",
              "    fill: var(--disabled-fill-color);\n",
              "    box-shadow: none;\n",
              "  }\n",
              "\n",
              "  .colab-df-spinner {\n",
              "    border: 2px solid var(--fill-color);\n",
              "    border-color: transparent;\n",
              "    border-bottom-color: var(--fill-color);\n",
              "    animation:\n",
              "      spin 1s steps(1) infinite;\n",
              "  }\n",
              "\n",
              "  @keyframes spin {\n",
              "    0% {\n",
              "      border-color: transparent;\n",
              "      border-bottom-color: var(--fill-color);\n",
              "      border-left-color: var(--fill-color);\n",
              "    }\n",
              "    20% {\n",
              "      border-color: transparent;\n",
              "      border-left-color: var(--fill-color);\n",
              "      border-top-color: var(--fill-color);\n",
              "    }\n",
              "    30% {\n",
              "      border-color: transparent;\n",
              "      border-left-color: var(--fill-color);\n",
              "      border-top-color: var(--fill-color);\n",
              "      border-right-color: var(--fill-color);\n",
              "    }\n",
              "    40% {\n",
              "      border-color: transparent;\n",
              "      border-right-color: var(--fill-color);\n",
              "      border-top-color: var(--fill-color);\n",
              "    }\n",
              "    60% {\n",
              "      border-color: transparent;\n",
              "      border-right-color: var(--fill-color);\n",
              "    }\n",
              "    80% {\n",
              "      border-color: transparent;\n",
              "      border-right-color: var(--fill-color);\n",
              "      border-bottom-color: var(--fill-color);\n",
              "    }\n",
              "    90% {\n",
              "      border-color: transparent;\n",
              "      border-bottom-color: var(--fill-color);\n",
              "    }\n",
              "  }\n",
              "</style>\n",
              "\n",
              "      <script>\n",
              "        async function quickchart(key) {\n",
              "          const quickchartButtonEl =\n",
              "            document.querySelector('#' + key + ' button');\n",
              "          quickchartButtonEl.disabled = true;  // To prevent multiple clicks.\n",
              "          quickchartButtonEl.classList.add('colab-df-spinner');\n",
              "          try {\n",
              "            const charts = await google.colab.kernel.invokeFunction(\n",
              "                'suggestCharts', [key], {});\n",
              "          } catch (error) {\n",
              "            console.error('Error during call to suggestCharts:', error);\n",
              "          }\n",
              "          quickchartButtonEl.classList.remove('colab-df-spinner');\n",
              "          quickchartButtonEl.classList.add('colab-df-quickchart-complete');\n",
              "        }\n",
              "        (() => {\n",
              "          let quickchartButtonEl =\n",
              "            document.querySelector('#df-93d1b182-ca0a-4ad8-94e3-1f04e09e57ff button');\n",
              "          quickchartButtonEl.style.display =\n",
              "            google.colab.kernel.accessAllowed ? 'block' : 'none';\n",
              "        })();\n",
              "      </script>\n",
              "    </div>\n",
              "\n",
              "    </div>\n",
              "  </div>\n"
            ],
            "application/vnd.google.colaboratory.intrinsic+json": {
              "type": "dataframe",
              "variable_name": "foods",
              "summary": "{\n  \"name\": \"foods\",\n  \"rows\": 400,\n  \"fields\": [\n    {\n      \"column\": \"Food_ID\",\n      \"properties\": {\n        \"dtype\": \"number\",\n        \"std\": 115,\n        \"min\": 1,\n        \"max\": 400,\n        \"num_unique_values\": 400,\n        \"samples\": [\n          210,\n          281,\n          34\n        ],\n        \"semantic_type\": \"\",\n        \"description\": \"\"\n      }\n    },\n    {\n      \"column\": \"Name\",\n      \"properties\": {\n        \"dtype\": \"string\",\n        \"num_unique_values\": 400,\n        \"samples\": [\n          \"quinoa coconut crumble custard\",\n          \"coconut mango oatmeal with cinnamon hint\",\n          \"mixed berry & banana smoothie\"\n        ],\n        \"semantic_type\": \"\",\n        \"description\": \"\"\n      }\n    },\n    {\n      \"column\": \"C_Type\",\n      \"properties\": {\n        \"dtype\": \"category\",\n        \"num_unique_values\": 16,\n        \"samples\": [\n          \"Healthy Food\",\n          \"Snack\",\n          \"French\"\n        ],\n        \"semantic_type\": \"\",\n        \"description\": \"\"\n      }\n    },\n    {\n      \"column\": \"Veg_Non\",\n      \"properties\": {\n        \"dtype\": \"category\",\n        \"num_unique_values\": 2,\n        \"samples\": [\n          \"non-veg\",\n          \"veg\"\n        ],\n        \"semantic_type\": \"\",\n        \"description\": \"\"\n      }\n    },\n    {\n      \"column\": \"Describe\",\n      \"properties\": {\n        \"dtype\": \"string\",\n        \"num_unique_values\": 397,\n        \"samples\": [\n          \"Chicken Thai, Salt, Pepper, Lemon, Fresh Thyme, Barley, Brockley, Mushroom, Extra Virgin Olive Oil, Cherry Tomato\",\n          \"coconut (tender), coconut milk, oats, ripe mango (diced), castor sugar, dry fruits, honey, cardamom powder\"\n        ],\n        \"semantic_type\": \"\",\n        \"description\": \"\"\n      }\n    }\n  ]\n}"
            }
          },
          "metadata": {},
          "execution_count": 10
        }
      ],
      "source": [
        "foods.head()"
      ]
    },
    {
      "cell_type": "markdown",
      "metadata": {
        "id": "vEYme_sAHJqv"
      },
      "source": [
        "**Insight:**\n",
        "\n",
        "Dataset `foods` berisi informasi tentang berbagai jenis makanan. Setiap baris mewakili satu makanan dengan lima kolom:\n",
        "\n",
        "* **Food\\_ID**: ID unik makanan\n",
        "* **Name**: Nama makanan\n",
        "* **C\\_Type**: Kategori makanan (misalnya Healthy Food, Snack, Dessert)\n",
        "* **Veg\\_Non**: Jenis makanan (vegetarian atau non-vegetarian)\n",
        "* **Describe**: Daftar bahan atau deskripsi singkat makanan."
      ]
    },
    {
      "cell_type": "code",
      "execution_count": 11,
      "metadata": {
        "colab": {
          "base_uri": "https://localhost:8080/",
          "height": 300
        },
        "id": "WgMPg7CDo8m8",
        "outputId": "06642041-eb09-4450-99d0-00434ac85674"
      },
      "outputs": [
        {
          "output_type": "execute_result",
          "data": {
            "text/plain": [
              "          Food_ID\n",
              "count  400.000000\n",
              "mean   200.500000\n",
              "std    115.614301\n",
              "min      1.000000\n",
              "25%    100.750000\n",
              "50%    200.500000\n",
              "75%    300.250000\n",
              "max    400.000000"
            ],
            "text/html": [
              "\n",
              "  <div id=\"df-63662bf4-e7dd-4bdb-86b7-2f7f5b794ffa\" class=\"colab-df-container\">\n",
              "    <div>\n",
              "<style scoped>\n",
              "    .dataframe tbody tr th:only-of-type {\n",
              "        vertical-align: middle;\n",
              "    }\n",
              "\n",
              "    .dataframe tbody tr th {\n",
              "        vertical-align: top;\n",
              "    }\n",
              "\n",
              "    .dataframe thead th {\n",
              "        text-align: right;\n",
              "    }\n",
              "</style>\n",
              "<table border=\"1\" class=\"dataframe\">\n",
              "  <thead>\n",
              "    <tr style=\"text-align: right;\">\n",
              "      <th></th>\n",
              "      <th>Food_ID</th>\n",
              "    </tr>\n",
              "  </thead>\n",
              "  <tbody>\n",
              "    <tr>\n",
              "      <th>count</th>\n",
              "      <td>400.000000</td>\n",
              "    </tr>\n",
              "    <tr>\n",
              "      <th>mean</th>\n",
              "      <td>200.500000</td>\n",
              "    </tr>\n",
              "    <tr>\n",
              "      <th>std</th>\n",
              "      <td>115.614301</td>\n",
              "    </tr>\n",
              "    <tr>\n",
              "      <th>min</th>\n",
              "      <td>1.000000</td>\n",
              "    </tr>\n",
              "    <tr>\n",
              "      <th>25%</th>\n",
              "      <td>100.750000</td>\n",
              "    </tr>\n",
              "    <tr>\n",
              "      <th>50%</th>\n",
              "      <td>200.500000</td>\n",
              "    </tr>\n",
              "    <tr>\n",
              "      <th>75%</th>\n",
              "      <td>300.250000</td>\n",
              "    </tr>\n",
              "    <tr>\n",
              "      <th>max</th>\n",
              "      <td>400.000000</td>\n",
              "    </tr>\n",
              "  </tbody>\n",
              "</table>\n",
              "</div>\n",
              "    <div class=\"colab-df-buttons\">\n",
              "\n",
              "  <div class=\"colab-df-container\">\n",
              "    <button class=\"colab-df-convert\" onclick=\"convertToInteractive('df-63662bf4-e7dd-4bdb-86b7-2f7f5b794ffa')\"\n",
              "            title=\"Convert this dataframe to an interactive table.\"\n",
              "            style=\"display:none;\">\n",
              "\n",
              "  <svg xmlns=\"http://www.w3.org/2000/svg\" height=\"24px\" viewBox=\"0 -960 960 960\">\n",
              "    <path d=\"M120-120v-720h720v720H120Zm60-500h600v-160H180v160Zm220 220h160v-160H400v160Zm0 220h160v-160H400v160ZM180-400h160v-160H180v160Zm440 0h160v-160H620v160ZM180-180h160v-160H180v160Zm440 0h160v-160H620v160Z\"/>\n",
              "  </svg>\n",
              "    </button>\n",
              "\n",
              "  <style>\n",
              "    .colab-df-container {\n",
              "      display:flex;\n",
              "      gap: 12px;\n",
              "    }\n",
              "\n",
              "    .colab-df-convert {\n",
              "      background-color: #E8F0FE;\n",
              "      border: none;\n",
              "      border-radius: 50%;\n",
              "      cursor: pointer;\n",
              "      display: none;\n",
              "      fill: #1967D2;\n",
              "      height: 32px;\n",
              "      padding: 0 0 0 0;\n",
              "      width: 32px;\n",
              "    }\n",
              "\n",
              "    .colab-df-convert:hover {\n",
              "      background-color: #E2EBFA;\n",
              "      box-shadow: 0px 1px 2px rgba(60, 64, 67, 0.3), 0px 1px 3px 1px rgba(60, 64, 67, 0.15);\n",
              "      fill: #174EA6;\n",
              "    }\n",
              "\n",
              "    .colab-df-buttons div {\n",
              "      margin-bottom: 4px;\n",
              "    }\n",
              "\n",
              "    [theme=dark] .colab-df-convert {\n",
              "      background-color: #3B4455;\n",
              "      fill: #D2E3FC;\n",
              "    }\n",
              "\n",
              "    [theme=dark] .colab-df-convert:hover {\n",
              "      background-color: #434B5C;\n",
              "      box-shadow: 0px 1px 3px 1px rgba(0, 0, 0, 0.15);\n",
              "      filter: drop-shadow(0px 1px 2px rgba(0, 0, 0, 0.3));\n",
              "      fill: #FFFFFF;\n",
              "    }\n",
              "  </style>\n",
              "\n",
              "    <script>\n",
              "      const buttonEl =\n",
              "        document.querySelector('#df-63662bf4-e7dd-4bdb-86b7-2f7f5b794ffa button.colab-df-convert');\n",
              "      buttonEl.style.display =\n",
              "        google.colab.kernel.accessAllowed ? 'block' : 'none';\n",
              "\n",
              "      async function convertToInteractive(key) {\n",
              "        const element = document.querySelector('#df-63662bf4-e7dd-4bdb-86b7-2f7f5b794ffa');\n",
              "        const dataTable =\n",
              "          await google.colab.kernel.invokeFunction('convertToInteractive',\n",
              "                                                    [key], {});\n",
              "        if (!dataTable) return;\n",
              "\n",
              "        const docLinkHtml = 'Like what you see? Visit the ' +\n",
              "          '<a target=\"_blank\" href=https://colab.research.google.com/notebooks/data_table.ipynb>data table notebook</a>'\n",
              "          + ' to learn more about interactive tables.';\n",
              "        element.innerHTML = '';\n",
              "        dataTable['output_type'] = 'display_data';\n",
              "        await google.colab.output.renderOutput(dataTable, element);\n",
              "        const docLink = document.createElement('div');\n",
              "        docLink.innerHTML = docLinkHtml;\n",
              "        element.appendChild(docLink);\n",
              "      }\n",
              "    </script>\n",
              "  </div>\n",
              "\n",
              "\n",
              "    <div id=\"df-6e32134d-1256-4f2e-975a-cf3edcc91ffc\">\n",
              "      <button class=\"colab-df-quickchart\" onclick=\"quickchart('df-6e32134d-1256-4f2e-975a-cf3edcc91ffc')\"\n",
              "                title=\"Suggest charts\"\n",
              "                style=\"display:none;\">\n",
              "\n",
              "<svg xmlns=\"http://www.w3.org/2000/svg\" height=\"24px\"viewBox=\"0 0 24 24\"\n",
              "     width=\"24px\">\n",
              "    <g>\n",
              "        <path d=\"M19 3H5c-1.1 0-2 .9-2 2v14c0 1.1.9 2 2 2h14c1.1 0 2-.9 2-2V5c0-1.1-.9-2-2-2zM9 17H7v-7h2v7zm4 0h-2V7h2v10zm4 0h-2v-4h2v4z\"/>\n",
              "    </g>\n",
              "</svg>\n",
              "      </button>\n",
              "\n",
              "<style>\n",
              "  .colab-df-quickchart {\n",
              "      --bg-color: #E8F0FE;\n",
              "      --fill-color: #1967D2;\n",
              "      --hover-bg-color: #E2EBFA;\n",
              "      --hover-fill-color: #174EA6;\n",
              "      --disabled-fill-color: #AAA;\n",
              "      --disabled-bg-color: #DDD;\n",
              "  }\n",
              "\n",
              "  [theme=dark] .colab-df-quickchart {\n",
              "      --bg-color: #3B4455;\n",
              "      --fill-color: #D2E3FC;\n",
              "      --hover-bg-color: #434B5C;\n",
              "      --hover-fill-color: #FFFFFF;\n",
              "      --disabled-bg-color: #3B4455;\n",
              "      --disabled-fill-color: #666;\n",
              "  }\n",
              "\n",
              "  .colab-df-quickchart {\n",
              "    background-color: var(--bg-color);\n",
              "    border: none;\n",
              "    border-radius: 50%;\n",
              "    cursor: pointer;\n",
              "    display: none;\n",
              "    fill: var(--fill-color);\n",
              "    height: 32px;\n",
              "    padding: 0;\n",
              "    width: 32px;\n",
              "  }\n",
              "\n",
              "  .colab-df-quickchart:hover {\n",
              "    background-color: var(--hover-bg-color);\n",
              "    box-shadow: 0 1px 2px rgba(60, 64, 67, 0.3), 0 1px 3px 1px rgba(60, 64, 67, 0.15);\n",
              "    fill: var(--button-hover-fill-color);\n",
              "  }\n",
              "\n",
              "  .colab-df-quickchart-complete:disabled,\n",
              "  .colab-df-quickchart-complete:disabled:hover {\n",
              "    background-color: var(--disabled-bg-color);\n",
              "    fill: var(--disabled-fill-color);\n",
              "    box-shadow: none;\n",
              "  }\n",
              "\n",
              "  .colab-df-spinner {\n",
              "    border: 2px solid var(--fill-color);\n",
              "    border-color: transparent;\n",
              "    border-bottom-color: var(--fill-color);\n",
              "    animation:\n",
              "      spin 1s steps(1) infinite;\n",
              "  }\n",
              "\n",
              "  @keyframes spin {\n",
              "    0% {\n",
              "      border-color: transparent;\n",
              "      border-bottom-color: var(--fill-color);\n",
              "      border-left-color: var(--fill-color);\n",
              "    }\n",
              "    20% {\n",
              "      border-color: transparent;\n",
              "      border-left-color: var(--fill-color);\n",
              "      border-top-color: var(--fill-color);\n",
              "    }\n",
              "    30% {\n",
              "      border-color: transparent;\n",
              "      border-left-color: var(--fill-color);\n",
              "      border-top-color: var(--fill-color);\n",
              "      border-right-color: var(--fill-color);\n",
              "    }\n",
              "    40% {\n",
              "      border-color: transparent;\n",
              "      border-right-color: var(--fill-color);\n",
              "      border-top-color: var(--fill-color);\n",
              "    }\n",
              "    60% {\n",
              "      border-color: transparent;\n",
              "      border-right-color: var(--fill-color);\n",
              "    }\n",
              "    80% {\n",
              "      border-color: transparent;\n",
              "      border-right-color: var(--fill-color);\n",
              "      border-bottom-color: var(--fill-color);\n",
              "    }\n",
              "    90% {\n",
              "      border-color: transparent;\n",
              "      border-bottom-color: var(--fill-color);\n",
              "    }\n",
              "  }\n",
              "</style>\n",
              "\n",
              "      <script>\n",
              "        async function quickchart(key) {\n",
              "          const quickchartButtonEl =\n",
              "            document.querySelector('#' + key + ' button');\n",
              "          quickchartButtonEl.disabled = true;  // To prevent multiple clicks.\n",
              "          quickchartButtonEl.classList.add('colab-df-spinner');\n",
              "          try {\n",
              "            const charts = await google.colab.kernel.invokeFunction(\n",
              "                'suggestCharts', [key], {});\n",
              "          } catch (error) {\n",
              "            console.error('Error during call to suggestCharts:', error);\n",
              "          }\n",
              "          quickchartButtonEl.classList.remove('colab-df-spinner');\n",
              "          quickchartButtonEl.classList.add('colab-df-quickchart-complete');\n",
              "        }\n",
              "        (() => {\n",
              "          let quickchartButtonEl =\n",
              "            document.querySelector('#df-6e32134d-1256-4f2e-975a-cf3edcc91ffc button');\n",
              "          quickchartButtonEl.style.display =\n",
              "            google.colab.kernel.accessAllowed ? 'block' : 'none';\n",
              "        })();\n",
              "      </script>\n",
              "    </div>\n",
              "\n",
              "    </div>\n",
              "  </div>\n"
            ],
            "application/vnd.google.colaboratory.intrinsic+json": {
              "type": "dataframe",
              "summary": "{\n  \"name\": \"foods\",\n  \"rows\": 8,\n  \"fields\": [\n    {\n      \"column\": \"Food_ID\",\n      \"properties\": {\n        \"dtype\": \"number\",\n        \"std\": 143.85727156983504,\n        \"min\": 1.0,\n        \"max\": 400.0,\n        \"num_unique_values\": 6,\n        \"samples\": [\n          400.0,\n          200.5,\n          300.25\n        ],\n        \"semantic_type\": \"\",\n        \"description\": \"\"\n      }\n    }\n  ]\n}"
            }
          },
          "metadata": {},
          "execution_count": 11
        }
      ],
      "source": [
        "foods.describe()"
      ]
    },
    {
      "cell_type": "markdown",
      "metadata": {
        "id": "k0d4y7jJHM7U"
      },
      "source": [
        "**Insight:**\n",
        "\n",
        "Output `foods.describe()` menunjukkan statistik deskriptif untuk kolom `Food_ID` pada dataset `foods` yang terdiri dari 400 data. Nilai `Food_ID` memiliki rata-rata 200.5, standar deviasi 115.61, nilai minimum 1, dan maksimum 400. Kuartil menunjukkan sebaran data: 25% dari data berada di bawah 100.75, median (50%) adalah 200.5, dan 75% di bawah 300.25. Ini menunjukkan distribusi `Food_ID` merata dari 1 hingga 400."
      ]
    },
    {
      "cell_type": "code",
      "execution_count": 12,
      "metadata": {
        "colab": {
          "base_uri": "https://localhost:8080/"
        },
        "id": "pOxy_cg_o-gv",
        "outputId": "521efa2b-763f-41a2-dd96-1c62e65542fe"
      },
      "outputs": [
        {
          "output_type": "stream",
          "name": "stdout",
          "text": [
            "Banyak ID makanan unik       : 400\n",
            "Banyak nama makanan unik     : 400\n",
            "Banyak jenis masakan (C_Type): 16\n",
            "Jenis masakan (C_Type)       : ['Healthy Food' 'Snack' 'Dessert' 'Japanese' 'Indian' 'French' 'Mexican'\n",
            " 'Italian' 'Chinese' 'Beverage' 'Thai' 'Korean' ' Korean' 'Vietnames'\n",
            " 'Nepalese' 'Spanish']\n",
            "Banyak kategori makanan (Veg/Non-Veg): 2\n",
            "Kategori makanan (Veg/Non-Veg)       : ['veg' 'non-veg']\n"
          ]
        }
      ],
      "source": [
        "# Menampilkan informasi unik dari kolom-kolom di 'foods'\n",
        "print('Banyak ID makanan unik       :', len(foods.Food_ID.unique()))\n",
        "print('Banyak nama makanan unik     :', len(foods.Name.unique()))\n",
        "print('Banyak jenis masakan (C_Type):', len(foods.C_Type.unique()))\n",
        "print('Jenis masakan (C_Type)       :', foods.C_Type.unique())\n",
        "print('Banyak kategori makanan (Veg/Non-Veg):', len(foods.Veg_Non.unique()))\n",
        "print('Kategori makanan (Veg/Non-Veg)       :', foods.Veg_Non.unique())"
      ]
    },
    {
      "cell_type": "markdown",
      "metadata": {
        "id": "C3Zc2gHHHQQ3"
      },
      "source": [
        "**Insight:**\n",
        "\n",
        "Output di atas menampilkan jumlah jumlah dan jenis nilai unik dari beberapa kolom dalam DataFrame foods. Hasilnya:\n",
        "\n",
        "* Terdapat 400 makanan unik berdasarkan ID dan nama.\n",
        "* Ada 16 jenis masakan (C_Type), termasuk `Healthy Food`, `Snack`, `Japanese`, dll. Perlu diperhatikan ada duplikasi karena penulisan seperti `Korean` dan `Korean` (ada spasi).\n",
        "* Terdapat 2 kategori makanan, yaitu `veg` dan `non-veg`."
      ]
    },
    {
      "cell_type": "markdown",
      "metadata": {
        "id": "IR9ZiqZuo_76"
      },
      "source": [
        "### Ratings"
      ]
    },
    {
      "cell_type": "code",
      "execution_count": 13,
      "metadata": {
        "colab": {
          "base_uri": "https://localhost:8080/"
        },
        "id": "AYGGba1KpBbI",
        "outputId": "eab027ed-361d-4254-8deb-a506b493931c"
      },
      "outputs": [
        {
          "output_type": "stream",
          "name": "stdout",
          "text": [
            "<class 'pandas.core.frame.DataFrame'>\n",
            "RangeIndex: 512 entries, 0 to 511\n",
            "Data columns (total 3 columns):\n",
            " #   Column   Non-Null Count  Dtype  \n",
            "---  ------   --------------  -----  \n",
            " 0   User_ID  511 non-null    float64\n",
            " 1   Food_ID  511 non-null    float64\n",
            " 2   Rating   511 non-null    float64\n",
            "dtypes: float64(3)\n",
            "memory usage: 12.1 KB\n"
          ]
        }
      ],
      "source": [
        "ratings.info()"
      ]
    },
    {
      "cell_type": "markdown",
      "metadata": {
        "id": "YyGSezDTHRFM"
      },
      "source": [
        "**Insight:**\n",
        "\n",
        "Dataset foods terdiri dari 512 baris dan 3 kolom. Tipe data mencakup 4 kolom float, yaitu `User_ID`, `Food_ID`, dan `Rating`."
      ]
    },
    {
      "cell_type": "code",
      "execution_count": 14,
      "metadata": {
        "colab": {
          "base_uri": "https://localhost:8080/",
          "height": 206
        },
        "id": "0iDBXAUZpDH9",
        "outputId": "4d87e01c-d6bd-4609-811b-c291747482c7"
      },
      "outputs": [
        {
          "output_type": "execute_result",
          "data": {
            "text/plain": [
              "   User_ID  Food_ID  Rating\n",
              "0      1.0     88.0     4.0\n",
              "1      1.0     46.0     3.0\n",
              "2      1.0     24.0     5.0\n",
              "3      1.0     25.0     4.0\n",
              "4      2.0     49.0     1.0"
            ],
            "text/html": [
              "\n",
              "  <div id=\"df-91cf104e-d130-4492-9145-6824519b4a02\" class=\"colab-df-container\">\n",
              "    <div>\n",
              "<style scoped>\n",
              "    .dataframe tbody tr th:only-of-type {\n",
              "        vertical-align: middle;\n",
              "    }\n",
              "\n",
              "    .dataframe tbody tr th {\n",
              "        vertical-align: top;\n",
              "    }\n",
              "\n",
              "    .dataframe thead th {\n",
              "        text-align: right;\n",
              "    }\n",
              "</style>\n",
              "<table border=\"1\" class=\"dataframe\">\n",
              "  <thead>\n",
              "    <tr style=\"text-align: right;\">\n",
              "      <th></th>\n",
              "      <th>User_ID</th>\n",
              "      <th>Food_ID</th>\n",
              "      <th>Rating</th>\n",
              "    </tr>\n",
              "  </thead>\n",
              "  <tbody>\n",
              "    <tr>\n",
              "      <th>0</th>\n",
              "      <td>1.0</td>\n",
              "      <td>88.0</td>\n",
              "      <td>4.0</td>\n",
              "    </tr>\n",
              "    <tr>\n",
              "      <th>1</th>\n",
              "      <td>1.0</td>\n",
              "      <td>46.0</td>\n",
              "      <td>3.0</td>\n",
              "    </tr>\n",
              "    <tr>\n",
              "      <th>2</th>\n",
              "      <td>1.0</td>\n",
              "      <td>24.0</td>\n",
              "      <td>5.0</td>\n",
              "    </tr>\n",
              "    <tr>\n",
              "      <th>3</th>\n",
              "      <td>1.0</td>\n",
              "      <td>25.0</td>\n",
              "      <td>4.0</td>\n",
              "    </tr>\n",
              "    <tr>\n",
              "      <th>4</th>\n",
              "      <td>2.0</td>\n",
              "      <td>49.0</td>\n",
              "      <td>1.0</td>\n",
              "    </tr>\n",
              "  </tbody>\n",
              "</table>\n",
              "</div>\n",
              "    <div class=\"colab-df-buttons\">\n",
              "\n",
              "  <div class=\"colab-df-container\">\n",
              "    <button class=\"colab-df-convert\" onclick=\"convertToInteractive('df-91cf104e-d130-4492-9145-6824519b4a02')\"\n",
              "            title=\"Convert this dataframe to an interactive table.\"\n",
              "            style=\"display:none;\">\n",
              "\n",
              "  <svg xmlns=\"http://www.w3.org/2000/svg\" height=\"24px\" viewBox=\"0 -960 960 960\">\n",
              "    <path d=\"M120-120v-720h720v720H120Zm60-500h600v-160H180v160Zm220 220h160v-160H400v160Zm0 220h160v-160H400v160ZM180-400h160v-160H180v160Zm440 0h160v-160H620v160ZM180-180h160v-160H180v160Zm440 0h160v-160H620v160Z\"/>\n",
              "  </svg>\n",
              "    </button>\n",
              "\n",
              "  <style>\n",
              "    .colab-df-container {\n",
              "      display:flex;\n",
              "      gap: 12px;\n",
              "    }\n",
              "\n",
              "    .colab-df-convert {\n",
              "      background-color: #E8F0FE;\n",
              "      border: none;\n",
              "      border-radius: 50%;\n",
              "      cursor: pointer;\n",
              "      display: none;\n",
              "      fill: #1967D2;\n",
              "      height: 32px;\n",
              "      padding: 0 0 0 0;\n",
              "      width: 32px;\n",
              "    }\n",
              "\n",
              "    .colab-df-convert:hover {\n",
              "      background-color: #E2EBFA;\n",
              "      box-shadow: 0px 1px 2px rgba(60, 64, 67, 0.3), 0px 1px 3px 1px rgba(60, 64, 67, 0.15);\n",
              "      fill: #174EA6;\n",
              "    }\n",
              "\n",
              "    .colab-df-buttons div {\n",
              "      margin-bottom: 4px;\n",
              "    }\n",
              "\n",
              "    [theme=dark] .colab-df-convert {\n",
              "      background-color: #3B4455;\n",
              "      fill: #D2E3FC;\n",
              "    }\n",
              "\n",
              "    [theme=dark] .colab-df-convert:hover {\n",
              "      background-color: #434B5C;\n",
              "      box-shadow: 0px 1px 3px 1px rgba(0, 0, 0, 0.15);\n",
              "      filter: drop-shadow(0px 1px 2px rgba(0, 0, 0, 0.3));\n",
              "      fill: #FFFFFF;\n",
              "    }\n",
              "  </style>\n",
              "\n",
              "    <script>\n",
              "      const buttonEl =\n",
              "        document.querySelector('#df-91cf104e-d130-4492-9145-6824519b4a02 button.colab-df-convert');\n",
              "      buttonEl.style.display =\n",
              "        google.colab.kernel.accessAllowed ? 'block' : 'none';\n",
              "\n",
              "      async function convertToInteractive(key) {\n",
              "        const element = document.querySelector('#df-91cf104e-d130-4492-9145-6824519b4a02');\n",
              "        const dataTable =\n",
              "          await google.colab.kernel.invokeFunction('convertToInteractive',\n",
              "                                                    [key], {});\n",
              "        if (!dataTable) return;\n",
              "\n",
              "        const docLinkHtml = 'Like what you see? Visit the ' +\n",
              "          '<a target=\"_blank\" href=https://colab.research.google.com/notebooks/data_table.ipynb>data table notebook</a>'\n",
              "          + ' to learn more about interactive tables.';\n",
              "        element.innerHTML = '';\n",
              "        dataTable['output_type'] = 'display_data';\n",
              "        await google.colab.output.renderOutput(dataTable, element);\n",
              "        const docLink = document.createElement('div');\n",
              "        docLink.innerHTML = docLinkHtml;\n",
              "        element.appendChild(docLink);\n",
              "      }\n",
              "    </script>\n",
              "  </div>\n",
              "\n",
              "\n",
              "    <div id=\"df-ba677f16-af06-436a-847d-664ec7cbddfc\">\n",
              "      <button class=\"colab-df-quickchart\" onclick=\"quickchart('df-ba677f16-af06-436a-847d-664ec7cbddfc')\"\n",
              "                title=\"Suggest charts\"\n",
              "                style=\"display:none;\">\n",
              "\n",
              "<svg xmlns=\"http://www.w3.org/2000/svg\" height=\"24px\"viewBox=\"0 0 24 24\"\n",
              "     width=\"24px\">\n",
              "    <g>\n",
              "        <path d=\"M19 3H5c-1.1 0-2 .9-2 2v14c0 1.1.9 2 2 2h14c1.1 0 2-.9 2-2V5c0-1.1-.9-2-2-2zM9 17H7v-7h2v7zm4 0h-2V7h2v10zm4 0h-2v-4h2v4z\"/>\n",
              "    </g>\n",
              "</svg>\n",
              "      </button>\n",
              "\n",
              "<style>\n",
              "  .colab-df-quickchart {\n",
              "      --bg-color: #E8F0FE;\n",
              "      --fill-color: #1967D2;\n",
              "      --hover-bg-color: #E2EBFA;\n",
              "      --hover-fill-color: #174EA6;\n",
              "      --disabled-fill-color: #AAA;\n",
              "      --disabled-bg-color: #DDD;\n",
              "  }\n",
              "\n",
              "  [theme=dark] .colab-df-quickchart {\n",
              "      --bg-color: #3B4455;\n",
              "      --fill-color: #D2E3FC;\n",
              "      --hover-bg-color: #434B5C;\n",
              "      --hover-fill-color: #FFFFFF;\n",
              "      --disabled-bg-color: #3B4455;\n",
              "      --disabled-fill-color: #666;\n",
              "  }\n",
              "\n",
              "  .colab-df-quickchart {\n",
              "    background-color: var(--bg-color);\n",
              "    border: none;\n",
              "    border-radius: 50%;\n",
              "    cursor: pointer;\n",
              "    display: none;\n",
              "    fill: var(--fill-color);\n",
              "    height: 32px;\n",
              "    padding: 0;\n",
              "    width: 32px;\n",
              "  }\n",
              "\n",
              "  .colab-df-quickchart:hover {\n",
              "    background-color: var(--hover-bg-color);\n",
              "    box-shadow: 0 1px 2px rgba(60, 64, 67, 0.3), 0 1px 3px 1px rgba(60, 64, 67, 0.15);\n",
              "    fill: var(--button-hover-fill-color);\n",
              "  }\n",
              "\n",
              "  .colab-df-quickchart-complete:disabled,\n",
              "  .colab-df-quickchart-complete:disabled:hover {\n",
              "    background-color: var(--disabled-bg-color);\n",
              "    fill: var(--disabled-fill-color);\n",
              "    box-shadow: none;\n",
              "  }\n",
              "\n",
              "  .colab-df-spinner {\n",
              "    border: 2px solid var(--fill-color);\n",
              "    border-color: transparent;\n",
              "    border-bottom-color: var(--fill-color);\n",
              "    animation:\n",
              "      spin 1s steps(1) infinite;\n",
              "  }\n",
              "\n",
              "  @keyframes spin {\n",
              "    0% {\n",
              "      border-color: transparent;\n",
              "      border-bottom-color: var(--fill-color);\n",
              "      border-left-color: var(--fill-color);\n",
              "    }\n",
              "    20% {\n",
              "      border-color: transparent;\n",
              "      border-left-color: var(--fill-color);\n",
              "      border-top-color: var(--fill-color);\n",
              "    }\n",
              "    30% {\n",
              "      border-color: transparent;\n",
              "      border-left-color: var(--fill-color);\n",
              "      border-top-color: var(--fill-color);\n",
              "      border-right-color: var(--fill-color);\n",
              "    }\n",
              "    40% {\n",
              "      border-color: transparent;\n",
              "      border-right-color: var(--fill-color);\n",
              "      border-top-color: var(--fill-color);\n",
              "    }\n",
              "    60% {\n",
              "      border-color: transparent;\n",
              "      border-right-color: var(--fill-color);\n",
              "    }\n",
              "    80% {\n",
              "      border-color: transparent;\n",
              "      border-right-color: var(--fill-color);\n",
              "      border-bottom-color: var(--fill-color);\n",
              "    }\n",
              "    90% {\n",
              "      border-color: transparent;\n",
              "      border-bottom-color: var(--fill-color);\n",
              "    }\n",
              "  }\n",
              "</style>\n",
              "\n",
              "      <script>\n",
              "        async function quickchart(key) {\n",
              "          const quickchartButtonEl =\n",
              "            document.querySelector('#' + key + ' button');\n",
              "          quickchartButtonEl.disabled = true;  // To prevent multiple clicks.\n",
              "          quickchartButtonEl.classList.add('colab-df-spinner');\n",
              "          try {\n",
              "            const charts = await google.colab.kernel.invokeFunction(\n",
              "                'suggestCharts', [key], {});\n",
              "          } catch (error) {\n",
              "            console.error('Error during call to suggestCharts:', error);\n",
              "          }\n",
              "          quickchartButtonEl.classList.remove('colab-df-spinner');\n",
              "          quickchartButtonEl.classList.add('colab-df-quickchart-complete');\n",
              "        }\n",
              "        (() => {\n",
              "          let quickchartButtonEl =\n",
              "            document.querySelector('#df-ba677f16-af06-436a-847d-664ec7cbddfc button');\n",
              "          quickchartButtonEl.style.display =\n",
              "            google.colab.kernel.accessAllowed ? 'block' : 'none';\n",
              "        })();\n",
              "      </script>\n",
              "    </div>\n",
              "\n",
              "    </div>\n",
              "  </div>\n"
            ],
            "application/vnd.google.colaboratory.intrinsic+json": {
              "type": "dataframe",
              "variable_name": "ratings",
              "summary": "{\n  \"name\": \"ratings\",\n  \"rows\": 512,\n  \"fields\": [\n    {\n      \"column\": \"User_ID\",\n      \"properties\": {\n        \"dtype\": \"number\",\n        \"std\": 28.73921290350848,\n        \"min\": 1.0,\n        \"max\": 100.0,\n        \"num_unique_values\": 100,\n        \"samples\": [\n          84.0,\n          54.0,\n          71.0\n        ],\n        \"semantic_type\": \"\",\n        \"description\": \"\"\n      }\n    },\n    {\n      \"column\": \"Food_ID\",\n      \"properties\": {\n        \"dtype\": \"number\",\n        \"std\": 91.29262932706344,\n        \"min\": 1.0,\n        \"max\": 309.0,\n        \"num_unique_values\": 309,\n        \"samples\": [\n          210.0,\n          110.0,\n          154.0\n        ],\n        \"semantic_type\": \"\",\n        \"description\": \"\"\n      }\n    },\n    {\n      \"column\": \"Rating\",\n      \"properties\": {\n        \"dtype\": \"number\",\n        \"std\": 2.8662362487559436,\n        \"min\": 1.0,\n        \"max\": 10.0,\n        \"num_unique_values\": 10,\n        \"samples\": [\n          2.0,\n          3.0,\n          9.0\n        ],\n        \"semantic_type\": \"\",\n        \"description\": \"\"\n      }\n    }\n  ]\n}"
            }
          },
          "metadata": {},
          "execution_count": 14
        }
      ],
      "source": [
        "ratings.head()"
      ]
    },
    {
      "cell_type": "markdown",
      "metadata": {
        "id": "EKyAG2AfHcZd"
      },
      "source": [
        "**Insight:**\n",
        "\n",
        "Output `ratings.head()` menampilkan 5 baris pertama dari dataset `ratings`, yang berisi tiga kolom:\n",
        "\n",
        "* `User_ID`: ID pengguna yang memberikan rating.\n",
        "* `Food_ID`: ID makanan yang diberi rating.\n",
        "* `Rating`: Nilai rating dari pengguna terhadap makanan (skala, misalnya 1–5)."
      ]
    },
    {
      "cell_type": "code",
      "execution_count": 15,
      "metadata": {
        "colab": {
          "base_uri": "https://localhost:8080/",
          "height": 300
        },
        "id": "T6NZGv5opESN",
        "outputId": "a31841e5-8106-4d85-b13c-ddcb056fcc78"
      },
      "outputs": [
        {
          "output_type": "execute_result",
          "data": {
            "text/plain": [
              "          User_ID     Food_ID      Rating\n",
              "count  511.000000  511.000000  511.000000\n",
              "mean    49.068493  125.311155    5.438356\n",
              "std     28.739213   91.292629    2.866236\n",
              "min      1.000000    1.000000    1.000000\n",
              "25%     25.000000   45.500000    3.000000\n",
              "50%     49.000000  111.000000    5.000000\n",
              "75%     72.000000  204.000000    8.000000\n",
              "max    100.000000  309.000000   10.000000"
            ],
            "text/html": [
              "\n",
              "  <div id=\"df-befaa8df-bc40-4986-b3a8-9d5d53ef9ad7\" class=\"colab-df-container\">\n",
              "    <div>\n",
              "<style scoped>\n",
              "    .dataframe tbody tr th:only-of-type {\n",
              "        vertical-align: middle;\n",
              "    }\n",
              "\n",
              "    .dataframe tbody tr th {\n",
              "        vertical-align: top;\n",
              "    }\n",
              "\n",
              "    .dataframe thead th {\n",
              "        text-align: right;\n",
              "    }\n",
              "</style>\n",
              "<table border=\"1\" class=\"dataframe\">\n",
              "  <thead>\n",
              "    <tr style=\"text-align: right;\">\n",
              "      <th></th>\n",
              "      <th>User_ID</th>\n",
              "      <th>Food_ID</th>\n",
              "      <th>Rating</th>\n",
              "    </tr>\n",
              "  </thead>\n",
              "  <tbody>\n",
              "    <tr>\n",
              "      <th>count</th>\n",
              "      <td>511.000000</td>\n",
              "      <td>511.000000</td>\n",
              "      <td>511.000000</td>\n",
              "    </tr>\n",
              "    <tr>\n",
              "      <th>mean</th>\n",
              "      <td>49.068493</td>\n",
              "      <td>125.311155</td>\n",
              "      <td>5.438356</td>\n",
              "    </tr>\n",
              "    <tr>\n",
              "      <th>std</th>\n",
              "      <td>28.739213</td>\n",
              "      <td>91.292629</td>\n",
              "      <td>2.866236</td>\n",
              "    </tr>\n",
              "    <tr>\n",
              "      <th>min</th>\n",
              "      <td>1.000000</td>\n",
              "      <td>1.000000</td>\n",
              "      <td>1.000000</td>\n",
              "    </tr>\n",
              "    <tr>\n",
              "      <th>25%</th>\n",
              "      <td>25.000000</td>\n",
              "      <td>45.500000</td>\n",
              "      <td>3.000000</td>\n",
              "    </tr>\n",
              "    <tr>\n",
              "      <th>50%</th>\n",
              "      <td>49.000000</td>\n",
              "      <td>111.000000</td>\n",
              "      <td>5.000000</td>\n",
              "    </tr>\n",
              "    <tr>\n",
              "      <th>75%</th>\n",
              "      <td>72.000000</td>\n",
              "      <td>204.000000</td>\n",
              "      <td>8.000000</td>\n",
              "    </tr>\n",
              "    <tr>\n",
              "      <th>max</th>\n",
              "      <td>100.000000</td>\n",
              "      <td>309.000000</td>\n",
              "      <td>10.000000</td>\n",
              "    </tr>\n",
              "  </tbody>\n",
              "</table>\n",
              "</div>\n",
              "    <div class=\"colab-df-buttons\">\n",
              "\n",
              "  <div class=\"colab-df-container\">\n",
              "    <button class=\"colab-df-convert\" onclick=\"convertToInteractive('df-befaa8df-bc40-4986-b3a8-9d5d53ef9ad7')\"\n",
              "            title=\"Convert this dataframe to an interactive table.\"\n",
              "            style=\"display:none;\">\n",
              "\n",
              "  <svg xmlns=\"http://www.w3.org/2000/svg\" height=\"24px\" viewBox=\"0 -960 960 960\">\n",
              "    <path d=\"M120-120v-720h720v720H120Zm60-500h600v-160H180v160Zm220 220h160v-160H400v160Zm0 220h160v-160H400v160ZM180-400h160v-160H180v160Zm440 0h160v-160H620v160ZM180-180h160v-160H180v160Zm440 0h160v-160H620v160Z\"/>\n",
              "  </svg>\n",
              "    </button>\n",
              "\n",
              "  <style>\n",
              "    .colab-df-container {\n",
              "      display:flex;\n",
              "      gap: 12px;\n",
              "    }\n",
              "\n",
              "    .colab-df-convert {\n",
              "      background-color: #E8F0FE;\n",
              "      border: none;\n",
              "      border-radius: 50%;\n",
              "      cursor: pointer;\n",
              "      display: none;\n",
              "      fill: #1967D2;\n",
              "      height: 32px;\n",
              "      padding: 0 0 0 0;\n",
              "      width: 32px;\n",
              "    }\n",
              "\n",
              "    .colab-df-convert:hover {\n",
              "      background-color: #E2EBFA;\n",
              "      box-shadow: 0px 1px 2px rgba(60, 64, 67, 0.3), 0px 1px 3px 1px rgba(60, 64, 67, 0.15);\n",
              "      fill: #174EA6;\n",
              "    }\n",
              "\n",
              "    .colab-df-buttons div {\n",
              "      margin-bottom: 4px;\n",
              "    }\n",
              "\n",
              "    [theme=dark] .colab-df-convert {\n",
              "      background-color: #3B4455;\n",
              "      fill: #D2E3FC;\n",
              "    }\n",
              "\n",
              "    [theme=dark] .colab-df-convert:hover {\n",
              "      background-color: #434B5C;\n",
              "      box-shadow: 0px 1px 3px 1px rgba(0, 0, 0, 0.15);\n",
              "      filter: drop-shadow(0px 1px 2px rgba(0, 0, 0, 0.3));\n",
              "      fill: #FFFFFF;\n",
              "    }\n",
              "  </style>\n",
              "\n",
              "    <script>\n",
              "      const buttonEl =\n",
              "        document.querySelector('#df-befaa8df-bc40-4986-b3a8-9d5d53ef9ad7 button.colab-df-convert');\n",
              "      buttonEl.style.display =\n",
              "        google.colab.kernel.accessAllowed ? 'block' : 'none';\n",
              "\n",
              "      async function convertToInteractive(key) {\n",
              "        const element = document.querySelector('#df-befaa8df-bc40-4986-b3a8-9d5d53ef9ad7');\n",
              "        const dataTable =\n",
              "          await google.colab.kernel.invokeFunction('convertToInteractive',\n",
              "                                                    [key], {});\n",
              "        if (!dataTable) return;\n",
              "\n",
              "        const docLinkHtml = 'Like what you see? Visit the ' +\n",
              "          '<a target=\"_blank\" href=https://colab.research.google.com/notebooks/data_table.ipynb>data table notebook</a>'\n",
              "          + ' to learn more about interactive tables.';\n",
              "        element.innerHTML = '';\n",
              "        dataTable['output_type'] = 'display_data';\n",
              "        await google.colab.output.renderOutput(dataTable, element);\n",
              "        const docLink = document.createElement('div');\n",
              "        docLink.innerHTML = docLinkHtml;\n",
              "        element.appendChild(docLink);\n",
              "      }\n",
              "    </script>\n",
              "  </div>\n",
              "\n",
              "\n",
              "    <div id=\"df-30f84cc2-207d-4d4d-8f62-a5ac11095abb\">\n",
              "      <button class=\"colab-df-quickchart\" onclick=\"quickchart('df-30f84cc2-207d-4d4d-8f62-a5ac11095abb')\"\n",
              "                title=\"Suggest charts\"\n",
              "                style=\"display:none;\">\n",
              "\n",
              "<svg xmlns=\"http://www.w3.org/2000/svg\" height=\"24px\"viewBox=\"0 0 24 24\"\n",
              "     width=\"24px\">\n",
              "    <g>\n",
              "        <path d=\"M19 3H5c-1.1 0-2 .9-2 2v14c0 1.1.9 2 2 2h14c1.1 0 2-.9 2-2V5c0-1.1-.9-2-2-2zM9 17H7v-7h2v7zm4 0h-2V7h2v10zm4 0h-2v-4h2v4z\"/>\n",
              "    </g>\n",
              "</svg>\n",
              "      </button>\n",
              "\n",
              "<style>\n",
              "  .colab-df-quickchart {\n",
              "      --bg-color: #E8F0FE;\n",
              "      --fill-color: #1967D2;\n",
              "      --hover-bg-color: #E2EBFA;\n",
              "      --hover-fill-color: #174EA6;\n",
              "      --disabled-fill-color: #AAA;\n",
              "      --disabled-bg-color: #DDD;\n",
              "  }\n",
              "\n",
              "  [theme=dark] .colab-df-quickchart {\n",
              "      --bg-color: #3B4455;\n",
              "      --fill-color: #D2E3FC;\n",
              "      --hover-bg-color: #434B5C;\n",
              "      --hover-fill-color: #FFFFFF;\n",
              "      --disabled-bg-color: #3B4455;\n",
              "      --disabled-fill-color: #666;\n",
              "  }\n",
              "\n",
              "  .colab-df-quickchart {\n",
              "    background-color: var(--bg-color);\n",
              "    border: none;\n",
              "    border-radius: 50%;\n",
              "    cursor: pointer;\n",
              "    display: none;\n",
              "    fill: var(--fill-color);\n",
              "    height: 32px;\n",
              "    padding: 0;\n",
              "    width: 32px;\n",
              "  }\n",
              "\n",
              "  .colab-df-quickchart:hover {\n",
              "    background-color: var(--hover-bg-color);\n",
              "    box-shadow: 0 1px 2px rgba(60, 64, 67, 0.3), 0 1px 3px 1px rgba(60, 64, 67, 0.15);\n",
              "    fill: var(--button-hover-fill-color);\n",
              "  }\n",
              "\n",
              "  .colab-df-quickchart-complete:disabled,\n",
              "  .colab-df-quickchart-complete:disabled:hover {\n",
              "    background-color: var(--disabled-bg-color);\n",
              "    fill: var(--disabled-fill-color);\n",
              "    box-shadow: none;\n",
              "  }\n",
              "\n",
              "  .colab-df-spinner {\n",
              "    border: 2px solid var(--fill-color);\n",
              "    border-color: transparent;\n",
              "    border-bottom-color: var(--fill-color);\n",
              "    animation:\n",
              "      spin 1s steps(1) infinite;\n",
              "  }\n",
              "\n",
              "  @keyframes spin {\n",
              "    0% {\n",
              "      border-color: transparent;\n",
              "      border-bottom-color: var(--fill-color);\n",
              "      border-left-color: var(--fill-color);\n",
              "    }\n",
              "    20% {\n",
              "      border-color: transparent;\n",
              "      border-left-color: var(--fill-color);\n",
              "      border-top-color: var(--fill-color);\n",
              "    }\n",
              "    30% {\n",
              "      border-color: transparent;\n",
              "      border-left-color: var(--fill-color);\n",
              "      border-top-color: var(--fill-color);\n",
              "      border-right-color: var(--fill-color);\n",
              "    }\n",
              "    40% {\n",
              "      border-color: transparent;\n",
              "      border-right-color: var(--fill-color);\n",
              "      border-top-color: var(--fill-color);\n",
              "    }\n",
              "    60% {\n",
              "      border-color: transparent;\n",
              "      border-right-color: var(--fill-color);\n",
              "    }\n",
              "    80% {\n",
              "      border-color: transparent;\n",
              "      border-right-color: var(--fill-color);\n",
              "      border-bottom-color: var(--fill-color);\n",
              "    }\n",
              "    90% {\n",
              "      border-color: transparent;\n",
              "      border-bottom-color: var(--fill-color);\n",
              "    }\n",
              "  }\n",
              "</style>\n",
              "\n",
              "      <script>\n",
              "        async function quickchart(key) {\n",
              "          const quickchartButtonEl =\n",
              "            document.querySelector('#' + key + ' button');\n",
              "          quickchartButtonEl.disabled = true;  // To prevent multiple clicks.\n",
              "          quickchartButtonEl.classList.add('colab-df-spinner');\n",
              "          try {\n",
              "            const charts = await google.colab.kernel.invokeFunction(\n",
              "                'suggestCharts', [key], {});\n",
              "          } catch (error) {\n",
              "            console.error('Error during call to suggestCharts:', error);\n",
              "          }\n",
              "          quickchartButtonEl.classList.remove('colab-df-spinner');\n",
              "          quickchartButtonEl.classList.add('colab-df-quickchart-complete');\n",
              "        }\n",
              "        (() => {\n",
              "          let quickchartButtonEl =\n",
              "            document.querySelector('#df-30f84cc2-207d-4d4d-8f62-a5ac11095abb button');\n",
              "          quickchartButtonEl.style.display =\n",
              "            google.colab.kernel.accessAllowed ? 'block' : 'none';\n",
              "        })();\n",
              "      </script>\n",
              "    </div>\n",
              "\n",
              "    </div>\n",
              "  </div>\n"
            ],
            "application/vnd.google.colaboratory.intrinsic+json": {
              "type": "dataframe",
              "summary": "{\n  \"name\": \"ratings\",\n  \"rows\": 8,\n  \"fields\": [\n    {\n      \"column\": \"User_ID\",\n      \"properties\": {\n        \"dtype\": \"number\",\n        \"std\": 167.00891515593895,\n        \"min\": 1.0,\n        \"max\": 511.0,\n        \"num_unique_values\": 8,\n        \"samples\": [\n          49.06849315068493,\n          49.0,\n          511.0\n        ],\n        \"semantic_type\": \"\",\n        \"description\": \"\"\n      }\n    },\n    {\n      \"column\": \"Food_ID\",\n      \"properties\": {\n        \"dtype\": \"number\",\n        \"std\": 165.7496846831102,\n        \"min\": 1.0,\n        \"max\": 511.0,\n        \"num_unique_values\": 8,\n        \"samples\": [\n          125.31115459882584,\n          111.0,\n          511.0\n        ],\n        \"semantic_type\": \"\",\n        \"description\": \"\"\n      }\n    },\n    {\n      \"column\": \"Rating\",\n      \"properties\": {\n        \"dtype\": \"number\",\n        \"std\": 178.9060817326644,\n        \"min\": 1.0,\n        \"max\": 511.0,\n        \"num_unique_values\": 8,\n        \"samples\": [\n          5.438356164383562,\n          5.0,\n          511.0\n        ],\n        \"semantic_type\": \"\",\n        \"description\": \"\"\n      }\n    }\n  ]\n}"
            }
          },
          "metadata": {},
          "execution_count": 15
        }
      ],
      "source": [
        "ratings.describe()"
      ]
    },
    {
      "cell_type": "markdown",
      "metadata": {
        "id": "6qew7rUKHTJB"
      },
      "source": [
        "**Insight:**\n",
        "\n",
        "* **Jumlah data (count)**: Terdapat 511 entri pada kolom `User_ID`, `Food_ID`, dan `Rating`.\n",
        "* **Rata-rata (mean)**: Rata-rata ID pengguna adalah 49, makanan 125, dan rating 5.4.\n",
        "* **Standar deviasi (std)**: Menunjukkan variasi data; rating bervariasi sekitar 2.87 dari rata-ratanya.\n",
        "* **Nilai minimum dan maksimum (min–max)**: Rating berkisar dari 1 hingga 10.\n",
        "* **Kuartil (25%, 50%, 75%)**: Sebagian besar rating berada di antara 3 dan 8, dengan nilai tengah (median) 5."
      ]
    },
    {
      "cell_type": "code",
      "execution_count": 16,
      "metadata": {
        "colab": {
          "base_uri": "https://localhost:8080/"
        },
        "id": "df3Ns5UMpHyY",
        "outputId": "0f8dced0-846a-43a1-ec5b-0d66ea5e5b74"
      },
      "outputs": [
        {
          "output_type": "stream",
          "name": "stdout",
          "text": [
            "Banyak pengguna unik         : 101\n",
            "Banyak makanan yang diberi rating : 310\n",
            "Banyak rating unik           : 11\n",
            "Rating unik                  : [ 4.  3.  5.  1.  8.  9. 10.  6.  2.  7. nan]\n"
          ]
        }
      ],
      "source": [
        "# Menampilkan informasi unik dari kolom-kolom di 'ratings'\n",
        "print('Banyak pengguna unik         :', len(ratings.User_ID.unique()))\n",
        "print('Banyak makanan yang diberi rating :', len(ratings.Food_ID.unique()))\n",
        "print('Banyak rating unik           :', len(ratings.Rating.unique()))\n",
        "print('Rating unik                  :', ratings.Rating.unique())"
      ]
    },
    {
      "cell_type": "markdown",
      "metadata": {
        "id": "J80P5bTmHVp7"
      },
      "source": [
        "**Insight:**\n",
        "\n",
        "Kode tersebut menampilkan informasi unik dari DataFrame `ratings`:\n",
        "\n",
        "* **101 pengguna unik**: Ada 101 user berbeda yang memberikan rating.\n",
        "* **310 makanan berbeda**: Sebanyak 310 jenis makanan telah diberi rating.\n",
        "* **11 rating unik**: Terdapat 11 nilai rating berbeda yang diberikan.\n",
        "* **Rating unik**: Nilai rating berkisar dari 1 hingga 10, ditambah satu nilai `NaN` (kosong/tidak terisi)."
      ]
    },
    {
      "cell_type": "markdown",
      "metadata": {
        "id": "TCKh2oN-qK6P"
      },
      "source": [
        "# Univariate Exploratory Data Analysis"
      ]
    },
    {
      "cell_type": "code",
      "execution_count": 17,
      "metadata": {
        "colab": {
          "base_uri": "https://localhost:8080/",
          "height": 448
        },
        "id": "-BqvshmAqO_L",
        "outputId": "2927fade-508c-4142-981d-d3a53b0da228"
      },
      "outputs": [
        {
          "output_type": "display_data",
          "data": {
            "text/plain": [
              "<Figure size 800x500 with 1 Axes>"
            ],
            "image/png": "[encoded data removed]"
          },
          "metadata": {}
        }
      ],
      "source": [
        "import matplotlib.pyplot as plt\n",
        "import seaborn as sns\n",
        "\n",
        "# Distribusi Rating\n",
        "plt.figure(figsize=(8, 5))\n",
        "sns.countplot(data=ratings, x='Rating')\n",
        "plt.title('Distribusi Rating Makanan')\n",
        "plt.xlabel('Rating')\n",
        "plt.ylabel('Jumlah')\n",
        "plt.show()"
      ]
    },
    {
      "cell_type": "markdown",
      "metadata": {
        "id": "86-Qpf3lIIgM"
      },
      "source": [
        "**Insight:**\n",
        "\n",
        "Distribusi rating makanan cukup bervariasi, dengan puncak pada rating 3, 5, dan 10. Hal ini menunjukkan pengguna memberi penilaian secara objektif, baik positif maupun negatif. Rating 10 paling banyak, artinya banyak makanan yang sangat disukai, sementara rating 8 paling sedikit. Distribusi ini cocok untuk model rekomendasi karena memberikan sinyal preferensi yang jelas."
      ]
    },
    {
      "cell_type": "code",
      "execution_count": 18,
      "metadata": {
        "colab": {
          "base_uri": "https://localhost:8080/",
          "height": 293
        },
        "id": "zmKod4NkqWxM",
        "outputId": "dd911b8d-f6b4-4b02-ef28-1538688265bc"
      },
      "outputs": [
        {
          "output_type": "display_data",
          "data": {
            "text/plain": [
              "<Figure size 1200x500 with 1 Axes>"
            ],
            "image/png": "[encoded data removed]"
          },
          "metadata": {}
        }
      ],
      "source": [
        "# Distribusi Jenis Makanan\n",
        "plt.figure(figsize=(12, 5))\n",
        "sns.countplot(data=foods, y='C_Type', order=foods['C_Type'].value_counts().index)\n",
        "plt.title('Distribusi Jenis Masakan (C_Type)')\n",
        "plt.xlabel('Jumlah')\n",
        "plt.ylabel('Jenis Masakan')\n",
        "plt.show()"
      ]
    },
    {
      "cell_type": "markdown",
      "metadata": {
        "id": "gqd5AJxtIiY8"
      },
      "source": [
        "**Insight:**\n",
        "\n",
        "Jenis masakan paling dominan adalah *Indian*, *Healthy Food*, dan *Dessert*. Sementara jenis seperti *Spanish* dan *Vietnamese* sangat sedikit. Hal ini menunjukkan preferensi data cenderung ke masakan tertentu, yang bisa mempengaruhi keseimbangan data dalam model."
      ]
    },
    {
      "cell_type": "code",
      "execution_count": 19,
      "metadata": {
        "colab": {
          "base_uri": "https://localhost:8080/",
          "height": 410
        },
        "id": "GkApUziaqaN-",
        "outputId": "74ce27cc-5753-46a6-9c9b-3dd0c7479001"
      },
      "outputs": [
        {
          "output_type": "display_data",
          "data": {
            "text/plain": [
              "<Figure size 600x400 with 1 Axes>"
            ],
            "image/png": "[encoded data removed]"
          },
          "metadata": {}
        }
      ],
      "source": [
        "# Distribusi Kategori Veg/Non-Veg\n",
        "plt.figure(figsize=(6, 4))\n",
        "sns.countplot(data=foods, x='Veg_Non')\n",
        "plt.title('Distribusi Kategori Makanan')\n",
        "plt.xlabel('Kategori')\n",
        "plt.ylabel('Jumlah')\n",
        "plt.show()"
      ]
    },
    {
      "cell_type": "markdown",
      "metadata": {
        "id": "KnILn0JQI0p0"
      },
      "source": [
        "**Insight:**\n",
        "\n",
        "Distribusi kategori makanan menunjukkan bahwa makanan **vegetarian (veg)** lebih banyak dibandingkan dengan **non-vegetarian (non-veg)**."
      ]
    },
    {
      "cell_type": "markdown",
      "metadata": {
        "id": "ewRS9YcWqbHR"
      },
      "source": [
        "# Data Preprocessing"
      ]
    },
    {
      "cell_type": "code",
      "execution_count": 20,
      "metadata": {
        "colab": {
          "base_uri": "https://localhost:8080/"
        },
        "id": "bhyLW7Zdr5Oi",
        "outputId": "43181f95-d57a-4d85-e915-151a3dd88213"
      },
      "outputs": [
        {
          "output_type": "stream",
          "name": "stdout",
          "text": [
            "Missing value di foods:\n",
            " Food_ID     0\n",
            "Name        0\n",
            "C_Type      0\n",
            "Veg_Non     0\n",
            "Describe    0\n",
            "dtype: int64\n",
            "\n",
            "Missing value di ratings:\n",
            " User_ID    1\n",
            "Food_ID    1\n",
            "Rating     1\n",
            "dtype: int64\n"
          ]
        }
      ],
      "source": [
        "# Cek missing values\n",
        "print(\"Missing value di foods:\\n\", foods.isnull().sum())\n",
        "print(\"\\nMissing value di ratings:\\n\", ratings.isnull().sum())\n",
        "\n",
        "# Drop baris yang mengandung NaN di ratings\n",
        "ratings.dropna(inplace=True)\n",
        "\n",
        "# Pastikan data bertipe integer\n",
        "ratings['User_ID'] = ratings['User_ID'].astype(int)\n",
        "ratings['Food_ID'] = ratings['Food_ID'].astype(int)"
      ]
    },
    {
      "cell_type": "markdown",
      "metadata": {
        "id": "cBdRiCKnI-aO"
      },
      "source": [
        "**Insight:**\n",
        "- Dataset foods tidak memiliki missing value.\n",
        "- Dataset ratings memiliki 1 baris yang mengandung missing value pada ketiga kolomnya (User_ID, Food_ID, dan Rating).\n",
        "\n",
        "Solusi:\n",
        "- Baris yang mengandung missing value dihapus menggunakan dropna().\n",
        "- Kolom User_ID dan Food_ID dikonversi ke tipe data integer untuk memastikan konsistensi tipe data."
      ]
    },
    {
      "cell_type": "code",
      "execution_count": 21,
      "metadata": {
        "colab": {
          "base_uri": "https://localhost:8080/"
        },
        "id": "4XVDgwbnsdAS",
        "outputId": "b0683840-a06f-4b7a-8571-27378bc77de1"
      },
      "outputs": [
        {
          "output_type": "stream",
          "name": "stdout",
          "text": [
            "Cek ulang missing value di ratings:\n",
            " User_ID    0\n",
            "Food_ID    0\n",
            "Rating     0\n",
            "dtype: int64\n"
          ]
        }
      ],
      "source": [
        "print(\"Cek ulang missing value di ratings:\\n\", ratings.isnull().sum())"
      ]
    },
    {
      "cell_type": "markdown",
      "metadata": {
        "id": "8FA2Dsl4JdG6"
      },
      "source": [
        "**Insight:**\n",
        "\n",
        "Output tersebut menunjukkan bahwa semua missing value di dataset **ratings** telah berhasil dihapus. Sekarang, ketiga kolom (`User_ID`, `Food_ID`, dan `Rating`) tidak lagi memiliki nilai kosong (NaN). Data siap untuk digunakan dalam analisis selanjutnya."
      ]
    },
    {
      "cell_type": "markdown",
      "metadata": {
        "id": "LE4mQ2xksgOv"
      },
      "source": [
        "# Data Preparation"
      ]
    },
    {
      "cell_type": "code",
      "execution_count": 22,
      "metadata": {
        "colab": {
          "base_uri": "https://localhost:8080/"
        },
        "id": "NOW22TRMs8-U",
        "outputId": "2329e7d2-1851-4526-c53e-6c164b0961b9"
      },
      "outputs": [
        {
          "output_type": "stream",
          "name": "stdout",
          "text": [
            "Jenis masakan unik setelah dibersihkan: ['Healthy Food' 'Snack' 'Dessert' 'Japanese' 'Indian' 'French' 'Mexican'\n",
            " 'Italian' 'Chinese' 'Beverage' 'Thai' 'Korean' 'Vietnames' 'Nepalese'\n",
            " 'Spanish']\n"
          ]
        }
      ],
      "source": [
        "# Menghapus spasi tambahan\n",
        "foods['C_Type'] = foods['C_Type'].str.strip()\n",
        "\n",
        "# Cek kembali jenis masakan unik\n",
        "print(\"Jenis masakan unik setelah dibersihkan:\", foods['C_Type'].unique())"
      ]
    },
    {
      "cell_type": "markdown",
      "metadata": {
        "id": "IxSsBSK6Jjj6"
      },
      "source": [
        "**Insight:**\n",
        "\n",
        "Bagian ini dilakukan untuk membersihkan data pada kolom `C_Type` di dataset **foods** dengan cara menghapus spasi di awal atau akhir teks menggunakan `str.strip()`. Hal ini penting agar kategori seperti `'Snack'` dan `' Snack'` tidak dianggap berbeda.\n",
        "\n",
        "Setelah dibersihkan, diperoleh 15 jenis masakan unik yang benar-benar bersih dari spasi tambahan, seperti: `'Healthy Food'`, `'Snack'`, `'Dessert'`, `'Japanese'`, dll. Data ini kini siap digunakan untuk analisis atau visualisasi tanpa masalah duplikasi akibat spasi."
      ]
    },
    {
      "cell_type": "code",
      "execution_count": 23,
      "metadata": {
        "colab": {
          "base_uri": "https://localhost:8080/"
        },
        "id": "MbZI6ubbtb7_",
        "outputId": "2d87abd9-3d7e-455a-feea-af09eafa433c"
      },
      "outputs": [
        {
          "output_type": "stream",
          "name": "stdout",
          "text": [
            "Kategori Veg/Non: ['veg' 'non-veg']\n"
          ]
        }
      ],
      "source": [
        "foods['Veg_Non'] = foods['Veg_Non'].str.strip()\n",
        "print(\"Kategori Veg/Non:\", foods['Veg_Non'].unique())"
      ]
    },
    {
      "cell_type": "markdown",
      "metadata": {
        "id": "vbx57FPbJ19z"
      },
      "source": [
        "**Insight:**\n",
        "\n",
        "Bagian ini dilakukan untuk membersihkan nilai pada kolom `Veg_Non` di dataset foods dengan menghapus spasi yang tidak perlu di awal atau akhir string menggunakan `.str.strip()`.\n",
        "\n",
        "Setelah pembersihan, hasilnya menunjukkan hanya ada dua kategori yang bersih dan konsisten:\n",
        "- `'veg'`\n",
        "- `'non-veg'`\n",
        "\n",
        "Hal ini memastikan tidak ada duplikasi nilai seperti ' veg' atau 'non-veg ' yang bisa menyebabkan kesalahan dalam analisis atau visualisasi data."
      ]
    },
    {
      "cell_type": "code",
      "execution_count": 24,
      "metadata": {
        "id": "SDNWwMe1tYyO"
      },
      "outputs": [],
      "source": [
        "# Ubah tipe data agar lebih akurat\n",
        "ratings = ratings.astype({\n",
        "    'User_ID': 'int',\n",
        "    'Food_ID': 'int',\n",
        "    'Rating': 'float'\n",
        "})"
      ]
    },
    {
      "cell_type": "markdown",
      "metadata": {
        "id": "EUFv58hsKhbx"
      },
      "source": [
        "**Insight:**\n",
        "\n",
        "Kode tersebut mengubah tipe data kolom pada DataFrame `ratings` supaya lebih sesuai dan akurat:\n",
        "\n",
        "* `User_ID` dan `Food_ID` menjadi `int` karena keduanya merepresentasikan identitas unik yang berupa angka bulat.\n",
        "* `Rating` menjadi `float` karena nilai rating biasanya berupa angka desimal.\n"
      ]
    },
    {
      "cell_type": "code",
      "execution_count": 25,
      "metadata": {
        "id": "UXgEuYRHtoNA"
      },
      "outputs": [],
      "source": [
        "# Menggabungkan data ratings dan foods berdasarkan Food_ID\n",
        "merged_df = ratings.merge(foods, on='Food_ID', how='left')"
      ]
    },
    {
      "cell_type": "markdown",
      "metadata": {
        "id": "C_3rt55WKrvk"
      },
      "source": [
        "**Insight:**\n",
        "\n",
        "Kode tersebut menggabungkan dua DataFrame, `ratings` dan `foods`, berdasarkan kolom yang sama yaitu `Food_ID`. Hasilnya adalah DataFrame baru (`merged_df`) yang berisi semua data dari `ratings` dan menambahkan informasi terkait dari `foods` sesuai `Food_ID` yang cocok. Jika ada `Food_ID` di `ratings` yang tidak ada di `foods`, maka kolom dari `foods` akan berisi nilai kosong (NaN)."
      ]
    },
    {
      "cell_type": "code",
      "execution_count": 26,
      "metadata": {
        "colab": {
          "base_uri": "https://localhost:8080/"
        },
        "id": "cPOyRh90tpy0",
        "outputId": "a88f0a19-027c-402d-d13a-cf2f7b280f6c"
      },
      "outputs": [
        {
          "output_type": "stream",
          "name": "stdout",
          "text": [
            "Ukuran data gabungan: (511, 7)\n"
          ]
        }
      ],
      "source": [
        "print(\"Ukuran data gabungan:\", merged_df.shape)"
      ]
    },
    {
      "cell_type": "markdown",
      "metadata": {
        "id": "nSg-sUBhLLbb"
      },
      "source": [
        "**Insight:**\n",
        "\n",
        "Output tersebut menunjukkan bahwa data gabungan `merged_df` memiliki 511 baris dan 7 kolom."
      ]
    },
    {
      "cell_type": "code",
      "execution_count": 27,
      "metadata": {
        "colab": {
          "base_uri": "https://localhost:8080/",
          "height": 432
        },
        "id": "XjcZ6yURtq-D",
        "outputId": "3124f819-0c9e-4fb5-b4ac-253ed8150a66"
      },
      "outputs": [
        {
          "output_type": "stream",
          "name": "stdout",
          "text": [
            "Isi data:\n"
          ]
        },
        {
          "output_type": "execute_result",
          "data": {
            "text/plain": [
              "   User_ID  Food_ID  Rating                        Name    C_Type  Veg_Non  \\\n",
              "0        1       88     4.0     peri peri chicken satay     Snack  non-veg   \n",
              "1        1       46     3.0     steam bunny chicken bao  Japanese  non-veg   \n",
              "2        1       24     5.0  green lentil dessert fudge   Dessert      veg   \n",
              "3        1       25     4.0          cashew nut cookies   Dessert      veg   \n",
              "4        2       49     1.0        christmas tree pizza   Italian      veg   \n",
              "\n",
              "                                            Describe  \n",
              "0  boneless skinless chicken thigh (trimmed), sal...  \n",
              "1  buns, all purpose white flour, dry yeast, suga...  \n",
              "2  whole moong beans, cow ghee, raisins, whole mi...  \n",
              "3  cashew paste, ghee, khaand (a sweetening agent...  \n",
              "4  pizza dough (2 boules), red pepper, red onion,...  "
            ],
            "text/html": [
              "\n",
              "  <div id=\"df-f3f65c99-f270-42a2-8b1a-c9e6e7ede264\" class=\"colab-df-container\">\n",
              "    <div>\n",
              "<style scoped>\n",
              "    .dataframe tbody tr th:only-of-type {\n",
              "        vertical-align: middle;\n",
              "    }\n",
              "\n",
              "    .dataframe tbody tr th {\n",
              "        vertical-align: top;\n",
              "    }\n",
              "\n",
              "    .dataframe thead th {\n",
              "        text-align: right;\n",
              "    }\n",
              "</style>\n",
              "<table border=\"1\" class=\"dataframe\">\n",
              "  <thead>\n",
              "    <tr style=\"text-align: right;\">\n",
              "      <th></th>\n",
              "      <th>User_ID</th>\n",
              "      <th>Food_ID</th>\n",
              "      <th>Rating</th>\n",
              "      <th>Name</th>\n",
              "      <th>C_Type</th>\n",
              "      <th>Veg_Non</th>\n",
              "      <th>Describe</th>\n",
              "    </tr>\n",
              "  </thead>\n",
              "  <tbody>\n",
              "    <tr>\n",
              "      <th>0</th>\n",
              "      <td>1</td>\n",
              "      <td>88</td>\n",
              "      <td>4.0</td>\n",
              "      <td>peri peri chicken satay</td>\n",
              "      <td>Snack</td>\n",
              "      <td>non-veg</td>\n",
              "      <td>boneless skinless chicken thigh (trimmed), sal...</td>\n",
              "    </tr>\n",
              "    <tr>\n",
              "      <th>1</th>\n",
              "      <td>1</td>\n",
              "      <td>46</td>\n",
              "      <td>3.0</td>\n",
              "      <td>steam bunny chicken bao</td>\n",
              "      <td>Japanese</td>\n",
              "      <td>non-veg</td>\n",
              "      <td>buns, all purpose white flour, dry yeast, suga...</td>\n",
              "    </tr>\n",
              "    <tr>\n",
              "      <th>2</th>\n",
              "      <td>1</td>\n",
              "      <td>24</td>\n",
              "      <td>5.0</td>\n",
              "      <td>green lentil dessert fudge</td>\n",
              "      <td>Dessert</td>\n",
              "      <td>veg</td>\n",
              "      <td>whole moong beans, cow ghee, raisins, whole mi...</td>\n",
              "    </tr>\n",
              "    <tr>\n",
              "      <th>3</th>\n",
              "      <td>1</td>\n",
              "      <td>25</td>\n",
              "      <td>4.0</td>\n",
              "      <td>cashew nut cookies</td>\n",
              "      <td>Dessert</td>\n",
              "      <td>veg</td>\n",
              "      <td>cashew paste, ghee, khaand (a sweetening agent...</td>\n",
              "    </tr>\n",
              "    <tr>\n",
              "      <th>4</th>\n",
              "      <td>2</td>\n",
              "      <td>49</td>\n",
              "      <td>1.0</td>\n",
              "      <td>christmas tree pizza</td>\n",
              "      <td>Italian</td>\n",
              "      <td>veg</td>\n",
              "      <td>pizza dough (2 boules), red pepper, red onion,...</td>\n",
              "    </tr>\n",
              "  </tbody>\n",
              "</table>\n",
              "</div>\n",
              "    <div class=\"colab-df-buttons\">\n",
              "\n",
              "  <div class=\"colab-df-container\">\n",
              "    <button class=\"colab-df-convert\" onclick=\"convertToInteractive('df-f3f65c99-f270-42a2-8b1a-c9e6e7ede264')\"\n",
              "            title=\"Convert this dataframe to an interactive table.\"\n",
              "            style=\"display:none;\">\n",
              "\n",
              "  <svg xmlns=\"http://www.w3.org/2000/svg\" height=\"24px\" viewBox=\"0 -960 960 960\">\n",
              "    <path d=\"M120-120v-720h720v720H120Zm60-500h600v-160H180v160Zm220 220h160v-160H400v160Zm0 220h160v-160H400v160ZM180-400h160v-160H180v160Zm440 0h160v-160H620v160ZM180-180h160v-160H180v160Zm440 0h160v-160H620v160Z\"/>\n",
              "  </svg>\n",
              "    </button>\n",
              "\n",
              "  <style>\n",
              "    .colab-df-container {\n",
              "      display:flex;\n",
              "      gap: 12px;\n",
              "    }\n",
              "\n",
              "    .colab-df-convert {\n",
              "      background-color: #E8F0FE;\n",
              "      border: none;\n",
              "      border-radius: 50%;\n",
              "      cursor: pointer;\n",
              "      display: none;\n",
              "      fill: #1967D2;\n",
              "      height: 32px;\n",
              "      padding: 0 0 0 0;\n",
              "      width: 32px;\n",
              "    }\n",
              "\n",
              "    .colab-df-convert:hover {\n",
              "      background-color: #E2EBFA;\n",
              "      box-shadow: 0px 1px 2px rgba(60, 64, 67, 0.3), 0px 1px 3px 1px rgba(60, 64, 67, 0.15);\n",
              "      fill: #174EA6;\n",
              "    }\n",
              "\n",
              "    .colab-df-buttons div {\n",
              "      margin-bottom: 4px;\n",
              "    }\n",
              "\n",
              "    [theme=dark] .colab-df-convert {\n",
              "      background-color: #3B4455;\n",
              "      fill: #D2E3FC;\n",
              "    }\n",
              "\n",
              "    [theme=dark] .colab-df-convert:hover {\n",
              "      background-color: #434B5C;\n",
              "      box-shadow: 0px 1px 3px 1px rgba(0, 0, 0, 0.15);\n",
              "      filter: drop-shadow(0px 1px 2px rgba(0, 0, 0, 0.3));\n",
              "      fill: #FFFFFF;\n",
              "    }\n",
              "  </style>\n",
              "\n",
              "    <script>\n",
              "      const buttonEl =\n",
              "        document.querySelector('#df-f3f65c99-f270-42a2-8b1a-c9e6e7ede264 button.colab-df-convert');\n",
              "      buttonEl.style.display =\n",
              "        google.colab.kernel.accessAllowed ? 'block' : 'none';\n",
              "\n",
              "      async function convertToInteractive(key) {\n",
              "        const element = document.querySelector('#df-f3f65c99-f270-42a2-8b1a-c9e6e7ede264');\n",
              "        const dataTable =\n",
              "          await google.colab.kernel.invokeFunction('convertToInteractive',\n",
              "                                                    [key], {});\n",
              "        if (!dataTable) return;\n",
              "\n",
              "        const docLinkHtml = 'Like what you see? Visit the ' +\n",
              "          '<a target=\"_blank\" href=https://colab.research.google.com/notebooks/data_table.ipynb>data table notebook</a>'\n",
              "          + ' to learn more about interactive tables.';\n",
              "        element.innerHTML = '';\n",
              "        dataTable['output_type'] = 'display_data';\n",
              "        await google.colab.output.renderOutput(dataTable, element);\n",
              "        const docLink = document.createElement('div');\n",
              "        docLink.innerHTML = docLinkHtml;\n",
              "        element.appendChild(docLink);\n",
              "      }\n",
              "    </script>\n",
              "  </div>\n",
              "\n",
              "\n",
              "    <div id=\"df-ceb9f99f-85a5-4124-81c3-396403f0b6ad\">\n",
              "      <button class=\"colab-df-quickchart\" onclick=\"quickchart('df-ceb9f99f-85a5-4124-81c3-396403f0b6ad')\"\n",
              "                title=\"Suggest charts\"\n",
              "                style=\"display:none;\">\n",
              "\n",
              "<svg xmlns=\"http://www.w3.org/2000/svg\" height=\"24px\"viewBox=\"0 0 24 24\"\n",
              "     width=\"24px\">\n",
              "    <g>\n",
              "        <path d=\"M19 3H5c-1.1 0-2 .9-2 2v14c0 1.1.9 2 2 2h14c1.1 0 2-.9 2-2V5c0-1.1-.9-2-2-2zM9 17H7v-7h2v7zm4 0h-2V7h2v10zm4 0h-2v-4h2v4z\"/>\n",
              "    </g>\n",
              "</svg>\n",
              "      </button>\n",
              "\n",
              "<style>\n",
              "  .colab-df-quickchart {\n",
              "      --bg-color: #E8F0FE;\n",
              "      --fill-color: #1967D2;\n",
              "      --hover-bg-color: #E2EBFA;\n",
              "      --hover-fill-color: #174EA6;\n",
              "      --disabled-fill-color: #AAA;\n",
              "      --disabled-bg-color: #DDD;\n",
              "  }\n",
              "\n",
              "  [theme=dark] .colab-df-quickchart {\n",
              "      --bg-color: #3B4455;\n",
              "      --fill-color: #D2E3FC;\n",
              "      --hover-bg-color: #434B5C;\n",
              "      --hover-fill-color: #FFFFFF;\n",
              "      --disabled-bg-color: #3B4455;\n",
              "      --disabled-fill-color: #666;\n",
              "  }\n",
              "\n",
              "  .colab-df-quickchart {\n",
              "    background-color: var(--bg-color);\n",
              "    border: none;\n",
              "    border-radius: 50%;\n",
              "    cursor: pointer;\n",
              "    display: none;\n",
              "    fill: var(--fill-color);\n",
              "    height: 32px;\n",
              "    padding: 0;\n",
              "    width: 32px;\n",
              "  }\n",
              "\n",
              "  .colab-df-quickchart:hover {\n",
              "    background-color: var(--hover-bg-color);\n",
              "    box-shadow: 0 1px 2px rgba(60, 64, 67, 0.3), 0 1px 3px 1px rgba(60, 64, 67, 0.15);\n",
              "    fill: var(--button-hover-fill-color);\n",
              "  }\n",
              "\n",
              "  .colab-df-quickchart-complete:disabled,\n",
              "  .colab-df-quickchart-complete:disabled:hover {\n",
              "    background-color: var(--disabled-bg-color);\n",
              "    fill: var(--disabled-fill-color);\n",
              "    box-shadow: none;\n",
              "  }\n",
              "\n",
              "  .colab-df-spinner {\n",
              "    border: 2px solid var(--fill-color);\n",
              "    border-color: transparent;\n",
              "    border-bottom-color: var(--fill-color);\n",
              "    animation:\n",
              "      spin 1s steps(1) infinite;\n",
              "  }\n",
              "\n",
              "  @keyframes spin {\n",
              "    0% {\n",
              "      border-color: transparent;\n",
              "      border-bottom-color: var(--fill-color);\n",
              "      border-left-color: var(--fill-color);\n",
              "    }\n",
              "    20% {\n",
              "      border-color: transparent;\n",
              "      border-left-color: var(--fill-color);\n",
              "      border-top-color: var(--fill-color);\n",
              "    }\n",
              "    30% {\n",
              "      border-color: transparent;\n",
              "      border-left-color: var(--fill-color);\n",
              "      border-top-color: var(--fill-color);\n",
              "      border-right-color: var(--fill-color);\n",
              "    }\n",
              "    40% {\n",
              "      border-color: transparent;\n",
              "      border-right-color: var(--fill-color);\n",
              "      border-top-color: var(--fill-color);\n",
              "    }\n",
              "    60% {\n",
              "      border-color: transparent;\n",
              "      border-right-color: var(--fill-color);\n",
              "    }\n",
              "    80% {\n",
              "      border-color: transparent;\n",
              "      border-right-color: var(--fill-color);\n",
              "      border-bottom-color: var(--fill-color);\n",
              "    }\n",
              "    90% {\n",
              "      border-color: transparent;\n",
              "      border-bottom-color: var(--fill-color);\n",
              "    }\n",
              "  }\n",
              "</style>\n",
              "\n",
              "      <script>\n",
              "        async function quickchart(key) {\n",
              "          const quickchartButtonEl =\n",
              "            document.querySelector('#' + key + ' button');\n",
              "          quickchartButtonEl.disabled = true;  // To prevent multiple clicks.\n",
              "          quickchartButtonEl.classList.add('colab-df-spinner');\n",
              "          try {\n",
              "            const charts = await google.colab.kernel.invokeFunction(\n",
              "                'suggestCharts', [key], {});\n",
              "          } catch (error) {\n",
              "            console.error('Error during call to suggestCharts:', error);\n",
              "          }\n",
              "          quickchartButtonEl.classList.remove('colab-df-spinner');\n",
              "          quickchartButtonEl.classList.add('colab-df-quickchart-complete');\n",
              "        }\n",
              "        (() => {\n",
              "          let quickchartButtonEl =\n",
              "            document.querySelector('#df-ceb9f99f-85a5-4124-81c3-396403f0b6ad button');\n",
              "          quickchartButtonEl.style.display =\n",
              "            google.colab.kernel.accessAllowed ? 'block' : 'none';\n",
              "        })();\n",
              "      </script>\n",
              "    </div>\n",
              "\n",
              "    </div>\n",
              "  </div>\n"
            ],
            "application/vnd.google.colaboratory.intrinsic+json": {
              "type": "dataframe",
              "variable_name": "merged_df",
              "summary": "{\n  \"name\": \"merged_df\",\n  \"rows\": 511,\n  \"fields\": [\n    {\n      \"column\": \"User_ID\",\n      \"properties\": {\n        \"dtype\": \"number\",\n        \"std\": 28,\n        \"min\": 1,\n        \"max\": 100,\n        \"num_unique_values\": 100,\n        \"samples\": [\n          84,\n          54,\n          71\n        ],\n        \"semantic_type\": \"\",\n        \"description\": \"\"\n      }\n    },\n    {\n      \"column\": \"Food_ID\",\n      \"properties\": {\n        \"dtype\": \"number\",\n        \"std\": 91,\n        \"min\": 1,\n        \"max\": 309,\n        \"num_unique_values\": 309,\n        \"samples\": [\n          210,\n          110,\n          154\n        ],\n        \"semantic_type\": \"\",\n        \"description\": \"\"\n      }\n    },\n    {\n      \"column\": \"Rating\",\n      \"properties\": {\n        \"dtype\": \"number\",\n        \"std\": 2.8662362487559436,\n        \"min\": 1.0,\n        \"max\": 10.0,\n        \"num_unique_values\": 10,\n        \"samples\": [\n          2.0,\n          3.0,\n          9.0\n        ],\n        \"semantic_type\": \"\",\n        \"description\": \"\"\n      }\n    },\n    {\n      \"column\": \"Name\",\n      \"properties\": {\n        \"dtype\": \"string\",\n        \"num_unique_values\": 309,\n        \"samples\": [\n          \"quinoa coconut crumble custard\",\n          \"chicken and mushroom lasagna\",\n          \"fish with white sauce\"\n        ],\n        \"semantic_type\": \"\",\n        \"description\": \"\"\n      }\n    },\n    {\n      \"column\": \"C_Type\",\n      \"properties\": {\n        \"dtype\": \"category\",\n        \"num_unique_values\": 11,\n        \"samples\": [\n          \"Beverage\",\n          \"Snack\",\n          \"Thai\"\n        ],\n        \"semantic_type\": \"\",\n        \"description\": \"\"\n      }\n    },\n    {\n      \"column\": \"Veg_Non\",\n      \"properties\": {\n        \"dtype\": \"category\",\n        \"num_unique_values\": 2,\n        \"samples\": [\n          \"veg\",\n          \"non-veg\"\n        ],\n        \"semantic_type\": \"\",\n        \"description\": \"\"\n      }\n    },\n    {\n      \"column\": \"Describe\",\n      \"properties\": {\n        \"dtype\": \"string\",\n        \"num_unique_values\": 306,\n        \"samples\": [\n          \"dahi, cumin powder, garlic paste, garam masala, turmeric powder, red chilli powder, salt, boneless chicken, oil, green chilli, onion, tomato\",\n          \"chicken, onion, green chilli, garlic, ginger, salt, aromatic powder, soya sauce, oyster sauce, spring onion, filo sheets\"\n        ],\n        \"semantic_type\": \"\",\n        \"description\": \"\"\n      }\n    }\n  ]\n}"
            }
          },
          "metadata": {},
          "execution_count": 27
        }
      ],
      "source": [
        "print(\"Isi data:\" )\n",
        "merged_df.head()"
      ]
    },
    {
      "cell_type": "markdown",
      "metadata": {
        "id": "1diCuokHLqz7"
      },
      "source": [
        "**Insight:**\n",
        "\n",
        "Data `merged_df` berisi informasi rating makanan dari pengguna, dengan kolom utama seperti:\n",
        "\n",
        "* **User\\_ID**: ID pengguna\n",
        "* **Food\\_ID**: ID makanan\n",
        "* **Rating**: nilai rating yang diberikan\n",
        "* **Name**: nama makanan\n",
        "* **C\\_Type**: kategori makanan (misal Snack, Dessert, Japanese)\n",
        "* **Veg\\_Non**: jenis makanan (veg atau non-veg)\n",
        "* **Describe**: deskripsi bahan makanan tersebut.\n"
      ]
    },
    {
      "cell_type": "code",
      "execution_count": 28,
      "metadata": {
        "colab": {
          "base_uri": "https://localhost:8080/",
          "height": 321
        },
        "id": "0stV7_ZwttTB",
        "outputId": "1243a9a5-c080-4612-fa54-fd2f96abf52a"
      },
      "outputs": [
        {
          "output_type": "stream",
          "name": "stdout",
          "text": [
            "Cek missing value di merged_df: \n"
          ]
        },
        {
          "output_type": "execute_result",
          "data": {
            "text/plain": [
              "User_ID     0\n",
              "Food_ID     0\n",
              "Rating      0\n",
              "Name        0\n",
              "C_Type      0\n",
              "Veg_Non     0\n",
              "Describe    0\n",
              "dtype: int64"
            ],
            "text/html": [
              "<div>\n",
              "<style scoped>\n",
              "    .dataframe tbody tr th:only-of-type {\n",
              "        vertical-align: middle;\n",
              "    }\n",
              "\n",
              "    .dataframe tbody tr th {\n",
              "        vertical-align: top;\n",
              "    }\n",
              "\n",
              "    .dataframe thead th {\n",
              "        text-align: right;\n",
              "    }\n",
              "</style>\n",
              "<table border=\"1\" class=\"dataframe\">\n",
              "  <thead>\n",
              "    <tr style=\"text-align: right;\">\n",
              "      <th></th>\n",
              "      <th>0</th>\n",
              "    </tr>\n",
              "  </thead>\n",
              "  <tbody>\n",
              "    <tr>\n",
              "      <th>User_ID</th>\n",
              "      <td>0</td>\n",
              "    </tr>\n",
              "    <tr>\n",
              "      <th>Food_ID</th>\n",
              "      <td>0</td>\n",
              "    </tr>\n",
              "    <tr>\n",
              "      <th>Rating</th>\n",
              "      <td>0</td>\n",
              "    </tr>\n",
              "    <tr>\n",
              "      <th>Name</th>\n",
              "      <td>0</td>\n",
              "    </tr>\n",
              "    <tr>\n",
              "      <th>C_Type</th>\n",
              "      <td>0</td>\n",
              "    </tr>\n",
              "    <tr>\n",
              "      <th>Veg_Non</th>\n",
              "      <td>0</td>\n",
              "    </tr>\n",
              "    <tr>\n",
              "      <th>Describe</th>\n",
              "      <td>0</td>\n",
              "    </tr>\n",
              "  </tbody>\n",
              "</table>\n",
              "</div><br><label><b>dtype:</b> int64</label>"
            ]
          },
          "metadata": {},
          "execution_count": 28
        }
      ],
      "source": [
        "print(\"Cek missing value di merged_df: \")\n",
        "merged_df.isnull().sum()"
      ]
    },
    {
      "cell_type": "markdown",
      "metadata": {
        "id": "ubL5UU-qL36q"
      },
      "source": [
        "**Insight:**\n",
        "\n",
        "Output tersebut menunjukkan bahwa di dataset `merged_df` tidak ada nilai yang hilang (missing value) pada semua kolom, yaitu `User_ID`, `Food_ID`, `Rating`, `Name`, `C_Type`, `Veg_Non`, dan `Describe`. Semua kolom sudah lengkap datanya tanpa ada yang kosong."
      ]
    },
    {
      "cell_type": "markdown",
      "metadata": {
        "id": "vZmSfKQcvKAU"
      },
      "source": [
        "# Model Development dengan Content Based Filtering"
      ]
    },
    {
      "cell_type": "code",
      "execution_count": 29,
      "metadata": {
        "colab": {
          "base_uri": "https://localhost:8080/"
        },
        "id": "MInbcLjpvQZO",
        "outputId": "4b0b65cf-35e9-4893-fa25-18d6ddbf3150"
      },
      "outputs": [
        {
          "output_type": "stream",
          "name": "stdout",
          "text": [
            "TF-IDF matrix shape: (400, 1175)\n"
          ]
        }
      ],
      "source": [
        "from sklearn.feature_extraction.text import TfidfVectorizer\n",
        "\n",
        "# Gabungkan fitur tekstual\n",
        "foods['combined_features'] = foods['C_Type'] + ' ' + foods['Veg_Non'] + ' ' + foods['Describe']\n",
        "\n",
        "# Vektorisasi dengan TF-IDF\n",
        "tfidf = TfidfVectorizer(stop_words='english')\n",
        "tfidf_matrix = tfidf.fit_transform(foods['combined_features'])\n",
        "\n",
        "print(\"TF-IDF matrix shape:\", tfidf_matrix.shape)"
      ]
    },
    {
      "cell_type": "markdown",
      "metadata": {
        "id": "OXLADXQmMDqj"
      },
      "source": [
        "**Insight:**\n",
        "\n",
        "Kode tersebut membuat model content-based filtering dengan menggabungkan tiga fitur tekstual (`C_Type`, `Veg_Non`, dan `Describe`) menjadi satu kolom baru bernama `combined_features`. Kemudian, fitur gabungan ini diubah menjadi representasi numerik menggunakan TF-IDF vectorizer, yang mengubah teks menjadi matriks dengan ukuran (400 dokumen x 1175 fitur kata unik). Matriks TF-IDF ini nantinya bisa dipakai untuk menghitung kemiripan antar makanan berdasarkan deskripsi teksnya."
      ]
    },
    {
      "cell_type": "code",
      "execution_count": 30,
      "metadata": {
        "id": "OGbh1qbxvuI9"
      },
      "outputs": [],
      "source": [
        "from sklearn.metrics.pairwise import cosine_similarity\n",
        "\n",
        "cosine_sim = cosine_similarity(tfidf_matrix, tfidf_matrix)"
      ]
    },
    {
      "cell_type": "markdown",
      "metadata": {
        "id": "5HlFz4t5MJb2"
      },
      "source": [
        "**Insight:**\n",
        "\n",
        "Kode tersebut menghitung **cosine similarity** antara semua pasangan dokumen dalam `tfidf_matrix` menggunakan metode dari `sklearn`.\n",
        "\n",
        "* `tfidf_matrix` adalah representasi vektor TF-IDF dari dokumen.\n",
        "* `cosine_similarity` menghasilkan matriks persegi di mana setiap elemen `[i, j]` menunjukkan seberapa mirip dokumen ke-i dan ke-j berdasarkan sudut kosinus antara vektornya."
      ]
    },
    {
      "cell_type": "code",
      "execution_count": 31,
      "metadata": {
        "id": "6EjC93gevvQ1"
      },
      "outputs": [],
      "source": [
        "# Buat Series untuk indeks makanan\n",
        "indices = pd.Series(foods.index, index=foods['Name'].str.lower())\n",
        "\n",
        "def recommend_food(name, top_n=5):\n",
        "    name = name.lower()\n",
        "    if name not in indices:\n",
        "        return \"Makanan tidak ditemukan.\"\n",
        "\n",
        "    idx = indices[name]\n",
        "    sim_scores = list(enumerate(cosine_sim[idx]))\n",
        "    sim_scores = sorted(sim_scores, key=lambda x: x[1], reverse=True)[1:top_n+1]\n",
        "    food_indices = [i[0] for i in sim_scores]\n",
        "\n",
        "    return foods[['Name', 'C_Type', 'Veg_Non']].iloc[food_indices]"
      ]
    },
    {
      "cell_type": "markdown",
      "metadata": {
        "id": "8zHbVgXYMQzy"
      },
      "source": [
        "**Insight:**\n",
        "\n",
        "Kode tersebut membuat fungsi rekomendasi makanan berdasarkan kemiripan (cosine similarity):\n",
        "\n",
        "* `indices` adalah `Series` yang memetakan nama makanan (lowercase) ke indeks baris di DataFrame `foods`.\n",
        "* Fungsi `recommend_food(name, top_n=5)` menerima nama makanan, lalu:\n",
        "\n",
        "  * Mengubah nama jadi lowercase dan cek apakah ada di indeks.\n",
        "  * Ambil indeks makanan tersebut.\n",
        "  * Hitung skor kemiripan cosine dengan semua makanan lain.\n",
        "  * Urutkan skor dan ambil `top_n` makanan paling mirip (kecuali dirinya sendiri).\n",
        "  * Kembalikan data nama, tipe, dan kategori vegetarian dari makanan-makanan yang direkomendasikan."
      ]
    },
    {
      "cell_type": "code",
      "execution_count": 32,
      "metadata": {
        "colab": {
          "base_uri": "https://localhost:8080/",
          "height": 206
        },
        "id": "y3ywodO9vwWs",
        "outputId": "55718509-2bd1-42c7-ecc7-83b01ffcd53b"
      },
      "outputs": [
        {
          "output_type": "execute_result",
          "data": {
            "text/plain": [
              "                                               Name        C_Type  Veg_Non\n",
              "393  Fig and Sesame Tart with Cardamom Orange Cream       Dessert  non-veg\n",
              "378    Grilled Chicken with Almond and Garlic Sauce  Healthy Food  non-veg\n",
              "227                       chocolate chip cheesecake       Dessert      veg\n",
              "250                          lemon poppy seed cake        Dessert      veg\n",
              "204                                lemon sushi cake       Dessert      veg"
            ],
            "text/html": [
              "\n",
              "  <div id=\"df-89c8ec9f-7ab1-4dbf-b5b4-ff1776037434\" class=\"colab-df-container\">\n",
              "    <div>\n",
              "<style scoped>\n",
              "    .dataframe tbody tr th:only-of-type {\n",
              "        vertical-align: middle;\n",
              "    }\n",
              "\n",
              "    .dataframe tbody tr th {\n",
              "        vertical-align: top;\n",
              "    }\n",
              "\n",
              "    .dataframe thead th {\n",
              "        text-align: right;\n",
              "    }\n",
              "</style>\n",
              "<table border=\"1\" class=\"dataframe\">\n",
              "  <thead>\n",
              "    <tr style=\"text-align: right;\">\n",
              "      <th></th>\n",
              "      <th>Name</th>\n",
              "      <th>C_Type</th>\n",
              "      <th>Veg_Non</th>\n",
              "    </tr>\n",
              "  </thead>\n",
              "  <tbody>\n",
              "    <tr>\n",
              "      <th>393</th>\n",
              "      <td>Fig and Sesame Tart with Cardamom Orange Cream</td>\n",
              "      <td>Dessert</td>\n",
              "      <td>non-veg</td>\n",
              "    </tr>\n",
              "    <tr>\n",
              "      <th>378</th>\n",
              "      <td>Grilled Chicken with Almond and Garlic Sauce</td>\n",
              "      <td>Healthy Food</td>\n",
              "      <td>non-veg</td>\n",
              "    </tr>\n",
              "    <tr>\n",
              "      <th>227</th>\n",
              "      <td>chocolate chip cheesecake</td>\n",
              "      <td>Dessert</td>\n",
              "      <td>veg</td>\n",
              "    </tr>\n",
              "    <tr>\n",
              "      <th>250</th>\n",
              "      <td>lemon poppy seed cake</td>\n",
              "      <td>Dessert</td>\n",
              "      <td>veg</td>\n",
              "    </tr>\n",
              "    <tr>\n",
              "      <th>204</th>\n",
              "      <td>lemon sushi cake</td>\n",
              "      <td>Dessert</td>\n",
              "      <td>veg</td>\n",
              "    </tr>\n",
              "  </tbody>\n",
              "</table>\n",
              "</div>\n",
              "    <div class=\"colab-df-buttons\">\n",
              "\n",
              "  <div class=\"colab-df-container\">\n",
              "    <button class=\"colab-df-convert\" onclick=\"convertToInteractive('df-89c8ec9f-7ab1-4dbf-b5b4-ff1776037434')\"\n",
              "            title=\"Convert this dataframe to an interactive table.\"\n",
              "            style=\"display:none;\">\n",
              "\n",
              "  <svg xmlns=\"http://www.w3.org/2000/svg\" height=\"24px\" viewBox=\"0 -960 960 960\">\n",
              "    <path d=\"M120-120v-720h720v720H120Zm60-500h600v-160H180v160Zm220 220h160v-160H400v160Zm0 220h160v-160H400v160ZM180-400h160v-160H180v160Zm440 0h160v-160H620v160ZM180-180h160v-160H180v160Zm440 0h160v-160H620v160Z\"/>\n",
              "  </svg>\n",
              "    </button>\n",
              "\n",
              "  <style>\n",
              "    .colab-df-container {\n",
              "      display:flex;\n",
              "      gap: 12px;\n",
              "    }\n",
              "\n",
              "    .colab-df-convert {\n",
              "      background-color: #E8F0FE;\n",
              "      border: none;\n",
              "      border-radius: 50%;\n",
              "      cursor: pointer;\n",
              "      display: none;\n",
              "      fill: #1967D2;\n",
              "      height: 32px;\n",
              "      padding: 0 0 0 0;\n",
              "      width: 32px;\n",
              "    }\n",
              "\n",
              "    .colab-df-convert:hover {\n",
              "      background-color: #E2EBFA;\n",
              "      box-shadow: 0px 1px 2px rgba(60, 64, 67, 0.3), 0px 1px 3px 1px rgba(60, 64, 67, 0.15);\n",
              "      fill: #174EA6;\n",
              "    }\n",
              "\n",
              "    .colab-df-buttons div {\n",
              "      margin-bottom: 4px;\n",
              "    }\n",
              "\n",
              "    [theme=dark] .colab-df-convert {\n",
              "      background-color: #3B4455;\n",
              "      fill: #D2E3FC;\n",
              "    }\n",
              "\n",
              "    [theme=dark] .colab-df-convert:hover {\n",
              "      background-color: #434B5C;\n",
              "      box-shadow: 0px 1px 3px 1px rgba(0, 0, 0, 0.15);\n",
              "      filter: drop-shadow(0px 1px 2px rgba(0, 0, 0, 0.3));\n",
              "      fill: #FFFFFF;\n",
              "    }\n",
              "  </style>\n",
              "\n",
              "    <script>\n",
              "      const buttonEl =\n",
              "        document.querySelector('#df-89c8ec9f-7ab1-4dbf-b5b4-ff1776037434 button.colab-df-convert');\n",
              "      buttonEl.style.display =\n",
              "        google.colab.kernel.accessAllowed ? 'block' : 'none';\n",
              "\n",
              "      async function convertToInteractive(key) {\n",
              "        const element = document.querySelector('#df-89c8ec9f-7ab1-4dbf-b5b4-ff1776037434');\n",
              "        const dataTable =\n",
              "          await google.colab.kernel.invokeFunction('convertToInteractive',\n",
              "                                                    [key], {});\n",
              "        if (!dataTable) return;\n",
              "\n",
              "        const docLinkHtml = 'Like what you see? Visit the ' +\n",
              "          '<a target=\"_blank\" href=https://colab.research.google.com/notebooks/data_table.ipynb>data table notebook</a>'\n",
              "          + ' to learn more about interactive tables.';\n",
              "        element.innerHTML = '';\n",
              "        dataTable['output_type'] = 'display_data';\n",
              "        await google.colab.output.renderOutput(dataTable, element);\n",
              "        const docLink = document.createElement('div');\n",
              "        docLink.innerHTML = docLinkHtml;\n",
              "        element.appendChild(docLink);\n",
              "      }\n",
              "    </script>\n",
              "  </div>\n",
              "\n",
              "\n",
              "    <div id=\"df-66b999ba-16aa-45a9-aa39-561b414952c6\">\n",
              "      <button class=\"colab-df-quickchart\" onclick=\"quickchart('df-66b999ba-16aa-45a9-aa39-561b414952c6')\"\n",
              "                title=\"Suggest charts\"\n",
              "                style=\"display:none;\">\n",
              "\n",
              "<svg xmlns=\"http://www.w3.org/2000/svg\" height=\"24px\"viewBox=\"0 0 24 24\"\n",
              "     width=\"24px\">\n",
              "    <g>\n",
              "        <path d=\"M19 3H5c-1.1 0-2 .9-2 2v14c0 1.1.9 2 2 2h14c1.1 0 2-.9 2-2V5c0-1.1-.9-2-2-2zM9 17H7v-7h2v7zm4 0h-2V7h2v10zm4 0h-2v-4h2v4z\"/>\n",
              "    </g>\n",
              "</svg>\n",
              "      </button>\n",
              "\n",
              "<style>\n",
              "  .colab-df-quickchart {\n",
              "      --bg-color: #E8F0FE;\n",
              "      --fill-color: #1967D2;\n",
              "      --hover-bg-color: #E2EBFA;\n",
              "      --hover-fill-color: #174EA6;\n",
              "      --disabled-fill-color: #AAA;\n",
              "      --disabled-bg-color: #DDD;\n",
              "  }\n",
              "\n",
              "  [theme=dark] .colab-df-quickchart {\n",
              "      --bg-color: #3B4455;\n",
              "      --fill-color: #D2E3FC;\n",
              "      --hover-bg-color: #434B5C;\n",
              "      --hover-fill-color: #FFFFFF;\n",
              "      --disabled-bg-color: #3B4455;\n",
              "      --disabled-fill-color: #666;\n",
              "  }\n",
              "\n",
              "  .colab-df-quickchart {\n",
              "    background-color: var(--bg-color);\n",
              "    border: none;\n",
              "    border-radius: 50%;\n",
              "    cursor: pointer;\n",
              "    display: none;\n",
              "    fill: var(--fill-color);\n",
              "    height: 32px;\n",
              "    padding: 0;\n",
              "    width: 32px;\n",
              "  }\n",
              "\n",
              "  .colab-df-quickchart:hover {\n",
              "    background-color: var(--hover-bg-color);\n",
              "    box-shadow: 0 1px 2px rgba(60, 64, 67, 0.3), 0 1px 3px 1px rgba(60, 64, 67, 0.15);\n",
              "    fill: var(--button-hover-fill-color);\n",
              "  }\n",
              "\n",
              "  .colab-df-quickchart-complete:disabled,\n",
              "  .colab-df-quickchart-complete:disabled:hover {\n",
              "    background-color: var(--disabled-bg-color);\n",
              "    fill: var(--disabled-fill-color);\n",
              "    box-shadow: none;\n",
              "  }\n",
              "\n",
              "  .colab-df-spinner {\n",
              "    border: 2px solid var(--fill-color);\n",
              "    border-color: transparent;\n",
              "    border-bottom-color: var(--fill-color);\n",
              "    animation:\n",
              "      spin 1s steps(1) infinite;\n",
              "  }\n",
              "\n",
              "  @keyframes spin {\n",
              "    0% {\n",
              "      border-color: transparent;\n",
              "      border-bottom-color: var(--fill-color);\n",
              "      border-left-color: var(--fill-color);\n",
              "    }\n",
              "    20% {\n",
              "      border-color: transparent;\n",
              "      border-left-color: var(--fill-color);\n",
              "      border-top-color: var(--fill-color);\n",
              "    }\n",
              "    30% {\n",
              "      border-color: transparent;\n",
              "      border-left-color: var(--fill-color);\n",
              "      border-top-color: var(--fill-color);\n",
              "      border-right-color: var(--fill-color);\n",
              "    }\n",
              "    40% {\n",
              "      border-color: transparent;\n",
              "      border-right-color: var(--fill-color);\n",
              "      border-top-color: var(--fill-color);\n",
              "    }\n",
              "    60% {\n",
              "      border-color: transparent;\n",
              "      border-right-color: var(--fill-color);\n",
              "    }\n",
              "    80% {\n",
              "      border-color: transparent;\n",
              "      border-right-color: var(--fill-color);\n",
              "      border-bottom-color: var(--fill-color);\n",
              "    }\n",
              "    90% {\n",
              "      border-color: transparent;\n",
              "      border-bottom-color: var(--fill-color);\n",
              "    }\n",
              "  }\n",
              "</style>\n",
              "\n",
              "      <script>\n",
              "        async function quickchart(key) {\n",
              "          const quickchartButtonEl =\n",
              "            document.querySelector('#' + key + ' button');\n",
              "          quickchartButtonEl.disabled = true;  // To prevent multiple clicks.\n",
              "          quickchartButtonEl.classList.add('colab-df-spinner');\n",
              "          try {\n",
              "            const charts = await google.colab.kernel.invokeFunction(\n",
              "                'suggestCharts', [key], {});\n",
              "          } catch (error) {\n",
              "            console.error('Error during call to suggestCharts:', error);\n",
              "          }\n",
              "          quickchartButtonEl.classList.remove('colab-df-spinner');\n",
              "          quickchartButtonEl.classList.add('colab-df-quickchart-complete');\n",
              "        }\n",
              "        (() => {\n",
              "          let quickchartButtonEl =\n",
              "            document.querySelector('#df-66b999ba-16aa-45a9-aa39-561b414952c6 button');\n",
              "          quickchartButtonEl.style.display =\n",
              "            google.colab.kernel.accessAllowed ? 'block' : 'none';\n",
              "        })();\n",
              "      </script>\n",
              "    </div>\n",
              "\n",
              "    </div>\n",
              "  </div>\n"
            ],
            "application/vnd.google.colaboratory.intrinsic+json": {
              "type": "dataframe",
              "summary": "{\n  \"name\": \"recommend_food(\\\"christmas cake\\\", top_n=5)\",\n  \"rows\": 5,\n  \"fields\": [\n    {\n      \"column\": \"Name\",\n      \"properties\": {\n        \"dtype\": \"string\",\n        \"num_unique_values\": 5,\n        \"samples\": [\n          \"Grilled Chicken with Almond and Garlic Sauce\",\n          \"lemon sushi cake\",\n          \"chocolate chip cheesecake\"\n        ],\n        \"semantic_type\": \"\",\n        \"description\": \"\"\n      }\n    },\n    {\n      \"column\": \"C_Type\",\n      \"properties\": {\n        \"dtype\": \"category\",\n        \"num_unique_values\": 2,\n        \"samples\": [\n          \"Healthy Food\",\n          \"Dessert\"\n        ],\n        \"semantic_type\": \"\",\n        \"description\": \"\"\n      }\n    },\n    {\n      \"column\": \"Veg_Non\",\n      \"properties\": {\n        \"dtype\": \"category\",\n        \"num_unique_values\": 2,\n        \"samples\": [\n          \"veg\",\n          \"non-veg\"\n        ],\n        \"semantic_type\": \"\",\n        \"description\": \"\"\n      }\n    }\n  ]\n}"
            }
          },
          "metadata": {},
          "execution_count": 32
        }
      ],
      "source": [
        "recommend_food(\"christmas cake\", top_n=5)"
      ]
    },
    {
      "cell_type": "markdown",
      "metadata": {
        "id": "bX6-TkxQMZRP"
      },
      "source": [
        "**Insight:**\n",
        "\n",
        "Output `recommend_food(\"christmas cake\", top_n=5)` menampilkan 5 makanan teratas yang direkomendasikan terkait \"christmas cake\". Setiap baris berisi nama makanan, tipe kategori (C\\_Type), dan status vegetarian atau non-vegetarian (Veg\\_Non). Contohnya, ada dessert vegetarian seperti \"chocolate chip cheesecake\" dan \"lemon poppy seed cake\", serta hidangan non-vegetarian seperti \"Grilled Chicken with Almond and Garlic Sauce\"."
      ]
    },
    {
      "cell_type": "markdown",
      "metadata": {
        "id": "efiprfPCvyxW"
      },
      "source": [
        "# Model Development dengan Collaborative Filtering"
      ]
    },
    {
      "cell_type": "code",
      "execution_count": 33,
      "metadata": {
        "colab": {
          "base_uri": "https://localhost:8080/"
        },
        "id": "a2DaFhbQyOv2",
        "outputId": "0ef2503f-614a-4563-cc0b-b8db228273ef"
      },
      "outputs": [
        {
          "output_type": "stream",
          "name": "stdout",
          "text": [
            "Index(['User_ID', 'Food_ID', 'Rating'], dtype='object')\n"
          ]
        }
      ],
      "source": [
        "print(ratings.columns)"
      ]
    },
    {
      "cell_type": "markdown",
      "metadata": {
        "id": "tdBcoS5bMrBU"
      },
      "source": [
        "**Insight:**\n",
        "\n",
        "Output `print(ratings.columns)` menunjukkan bahwa dataset `ratings` memiliki tiga kolom utama:\n",
        "\n",
        "* **User\\_ID**: identitas pengguna yang memberi rating\n",
        "* **Food\\_ID**: identitas makanan yang dinilai\n",
        "* **Rating**: skor atau penilaian yang diberikan pengguna pada makanan tersebut\n",
        "\n",
        "Ini adalah struktur data dasar yang digunakan untuk model Collaborative Filtering."
      ]
    },
    {
      "cell_type": "code",
      "execution_count": 34,
      "metadata": {
        "colab": {
          "base_uri": "https://localhost:8080/"
        },
        "id": "tXehmJTH0nvX",
        "outputId": "1d490e4e-1304-478f-dca8-2e32e66c8b6e"
      },
      "outputs": [
        {
          "output_type": "stream",
          "name": "stdout",
          "text": [
            "Epoch 1/10\n",
            "\u001b[1m7/7\u001b[0m \u001b[32m━━━━━━━━━━━━━━━━━━━━\u001b[0m\u001b[37m\u001b[0m \u001b[1m2s\u001b[0m 76ms/step - loss: 0.3420 - val_loss: 0.3523\n",
            "Epoch 2/10\n",
            "\u001b[1m7/7\u001b[0m \u001b[32m━━━━━━━━━━━━━━━━━━━━\u001b[0m\u001b[37m\u001b[0m \u001b[1m0s\u001b[0m 20ms/step - loss: 0.3316 - val_loss: 0.3523\n",
            "Epoch 3/10\n",
            "\u001b[1m7/7\u001b[0m \u001b[32m━━━━━━━━━━━━━━━━━━━━\u001b[0m\u001b[37m\u001b[0m \u001b[1m0s\u001b[0m 13ms/step - loss: 0.3097 - val_loss: 0.3522\n",
            "Epoch 4/10\n",
            "\u001b[1m7/7\u001b[0m \u001b[32m━━━━━━━━━━━━━━━━━━━━\u001b[0m\u001b[37m\u001b[0m \u001b[1m0s\u001b[0m 13ms/step - loss: 0.3012 - val_loss: 0.3523\n",
            "Epoch 5/10\n",
            "\u001b[1m7/7\u001b[0m \u001b[32m━━━━━━━━━━━━━━━━━━━━\u001b[0m\u001b[37m\u001b[0m \u001b[1m0s\u001b[0m 13ms/step - loss: 0.2729 - val_loss: 0.3523\n",
            "Epoch 6/10\n",
            "\u001b[1m7/7\u001b[0m \u001b[32m━━━━━━━━━━━━━━━━━━━━\u001b[0m\u001b[37m\u001b[0m \u001b[1m0s\u001b[0m 14ms/step - loss: 0.2864 - val_loss: 0.3525\n",
            "Epoch 7/10\n",
            "\u001b[1m7/7\u001b[0m \u001b[32m━━━━━━━━━━━━━━━━━━━━\u001b[0m\u001b[37m\u001b[0m \u001b[1m0s\u001b[0m 13ms/step - loss: 0.2528 - val_loss: 0.3526\n",
            "Epoch 8/10\n",
            "\u001b[1m7/7\u001b[0m \u001b[32m━━━━━━━━━━━━━━━━━━━━\u001b[0m\u001b[37m\u001b[0m \u001b[1m0s\u001b[0m 13ms/step - loss: 0.2416 - val_loss: 0.3528\n",
            "Epoch 9/10\n",
            "\u001b[1m7/7\u001b[0m \u001b[32m━━━━━━━━━━━━━━━━━━━━\u001b[0m\u001b[37m\u001b[0m \u001b[1m0s\u001b[0m 15ms/step - loss: 0.2329 - val_loss: 0.3529\n",
            "Epoch 10/10\n",
            "\u001b[1m7/7\u001b[0m \u001b[32m━━━━━━━━━━━━━━━━━━━━\u001b[0m\u001b[37m\u001b[0m \u001b[1m0s\u001b[0m 13ms/step - loss: 0.2306 - val_loss: 0.3531\n",
            "\u001b[1m10/10\u001b[0m \u001b[32m━━━━━━━━━━━━━━━━━━━━\u001b[0m\u001b[37m\u001b[0m \u001b[1m0s\u001b[0m 10ms/step\n"
          ]
        }
      ],
      "source": [
        "import tensorflow as tf\n",
        "from tensorflow.keras import layers\n",
        "\n",
        "# Mapping User_ID dan Food_ID ke indeks encoded\n",
        "user_to_user_encoded = {x: i for i, x in enumerate(ratings['User_ID'].unique())}\n",
        "food_to_food_encoded = {x: i for i, x in enumerate(ratings['Food_ID'].unique())}\n",
        "food_encoded_to_food = {v: k for k, v in food_to_food_encoded.items()}\n",
        "\n",
        "# Tambahkan kolom encoded ke dataframe ratings\n",
        "ratings['user'] = ratings['User_ID'].map(user_to_user_encoded)\n",
        "ratings['food'] = ratings['Food_ID'].map(food_to_food_encoded)\n",
        "\n",
        "# Shuffle data dulu\n",
        "ratings = ratings.sample(frac=1, random_state=42).reset_index(drop=True)\n",
        "\n",
        "# Normalisasi rating\n",
        "min_rating = ratings['Rating'].min()\n",
        "max_rating = ratings['Rating'].max()\n",
        "ratings['rating_norm'] = ratings['Rating'].apply(lambda x: (x - min_rating) / (max_rating - min_rating))\n",
        "\n",
        "# Ambil fitur encoded dan label\n",
        "x = ratings[['user', 'food']].values   # PASTIKAN ini sudah encoded, bukan User_ID asli\n",
        "y = ratings['rating_norm'].values\n",
        "\n",
        "# Split data train dan val\n",
        "train_size = int(0.8 * len(ratings))\n",
        "x_train, x_val = x[:train_size], x[train_size:]\n",
        "y_train, y_val = y[:train_size], y[train_size:]\n",
        "\n",
        "# Jumlah user dan makanan unik (dari encoded)\n",
        "num_users = len(user_to_user_encoded)\n",
        "num_foods = len(food_to_food_encoded)\n",
        "\n",
        "# Definisikan model recommender\n",
        "class RecommenderNet(tf.keras.Model):\n",
        "    def __init__(self, num_users, num_foods, embedding_size=50, **kwargs):\n",
        "        super().__init__(**kwargs)\n",
        "        self.user_embedding = layers.Embedding(num_users, embedding_size, embeddings_initializer='he_normal')\n",
        "        self.food_embedding = layers.Embedding(num_foods, embedding_size, embeddings_initializer='he_normal')\n",
        "        self.dot = layers.Dot(axes=1)\n",
        "\n",
        "    def call(self, inputs):\n",
        "        user_vector = self.user_embedding(inputs[:, 0])\n",
        "        food_vector = self.food_embedding(inputs[:, 1])\n",
        "        dot_user_food = self.dot([user_vector, food_vector])\n",
        "        return dot_user_food\n",
        "\n",
        "# Buat dan compile model\n",
        "model = RecommenderNet(num_users, num_foods, embedding_size=50)\n",
        "model.compile(optimizer='adam', loss='mse')\n",
        "\n",
        "# Latih model\n",
        "history = model.fit(\n",
        "    x=x_train,\n",
        "    y=y_train,\n",
        "    batch_size=64,\n",
        "    epochs=10,\n",
        "    verbose=1,\n",
        "    validation_data=(x_val, y_val)\n",
        ")\n",
        "\n",
        "# Contoh rekomendasi makanan untuk user tertentu\n",
        "user_id = ratings['User_ID'].sample(1).iloc[0]\n",
        "user_encoded = user_to_user_encoded[user_id]\n",
        "\n",
        "# List makanan yang sudah dirating user\n",
        "food_rated_by_user = ratings[ratings['user'] == user_encoded]['food'].values\n",
        "\n",
        "# Makanan yang belum dirating user\n",
        "food_not_rated = np.array([[user_encoded, food_id] for food_id in range(num_foods) if food_id not in food_rated_by_user])\n",
        "\n",
        "# Prediksi rating untuk makanan yang belum dirating\n",
        "predicted_ratings = model.predict(food_not_rated).flatten()"
      ]
    },
    {
      "cell_type": "markdown",
      "metadata": {
        "id": "wLxM5HiiM1Am"
      },
      "source": [
        "**Insight:**\n",
        "\n",
        "Kode tersebut membuat dan melatih model rekomendasi makanan menggunakan Collaborative Filtering berbasis embedding dengan TensorFlow. Langkah utamanya:\n",
        "\n",
        "* User dan makanan di-encode ke indeks numerik.\n",
        "* Rating dinormalisasi antara 0 dan 1.\n",
        "* Model neural network menggunakan embedding untuk user dan makanan, kemudian menghitung hasil dot product sebagai prediksi rating.\n",
        "* Model dilatih selama 10 epoch dengan MSE loss, terlihat loss training menurun tapi val\\_loss relatif stabil.\n",
        "* Setelah training, model memprediksi rating untuk makanan yang belum pernah dirating oleh user tertentu sebagai dasar rekomendasi."
      ]
    },
    {
      "cell_type": "code",
      "execution_count": 35,
      "metadata": {
        "colab": {
          "base_uri": "https://localhost:8080/"
        },
        "id": "7sjhWt1_0rpz",
        "outputId": "e00f0e12-bf46-43e2-eac2-bb07d9cd5496"
      },
      "outputs": [
        {
          "output_type": "stream",
          "name": "stdout",
          "text": [
            "Rekomendasi makanan untuk user ID 17:\n",
            "                                Name        C_Type  Veg_Non\n",
            "9           broccoli and almond soup  Healthy Food      veg\n",
            "42                    beetroot modak      Japanese      veg\n",
            "49                  french pork chop        French      veg\n",
            "111                  chicken roulade        French  non-veg\n",
            "116         chicken in mahalak sauce        Indian  non-veg\n",
            "124            cheese chicken kebabs        Indian  non-veg\n",
            "193  egg and cheddar cheese sandwich       Mexican  non-veg\n",
            "226        cinnamon oatmeal pancakes  Healthy Food      veg\n",
            "245         christmas dry fruit cake       Dessert      veg\n",
            "301                   koldil chicken       Chinese  non-veg\n"
          ]
        }
      ],
      "source": [
        "# Top 10 rekomendasi makanan\n",
        "top_indices = predicted_ratings.argsort()[-10:][::-1]\n",
        "recommended_food_ids = [food_encoded_to_food[food_not_rated[i][1]] for i in top_indices]\n",
        "\n",
        "recommended_foods = foods[foods['Food_ID'].isin(recommended_food_ids)]\n",
        "print(f\"Rekomendasi makanan untuk user ID {user_id}:\")\n",
        "print(recommended_foods[['Name', 'C_Type', 'Veg_Non']])"
      ]
    },
    {
      "cell_type": "markdown",
      "metadata": {
        "id": "Ai3baylINBcE"
      },
      "source": [
        "**Insight:**\n",
        "\n",
        "Output menampilkan 10 rekomendasi makanan terbaik untuk user dengan ID 95 berdasarkan prediksi model. Daftar ini berisi nama makanan, kategori (C\\_Type), dan status vegetarian (veg) atau non-vegetarian (non-veg). Rekomendasi mencakup variasi hidangan dari berbagai kategori seperti Healthy Food, Chinese, Thai, Dessert, dan French."
      ]
    },
    {
      "cell_type": "markdown",
      "metadata": {
        "id": "FceiU4TEiQhP"
      },
      "source": [
        "# Evaluation"
      ]
    },
    {
      "cell_type": "markdown",
      "source": [
        "## Evaluation Content Based Filtering"
      ],
      "metadata": {
        "id": "mPdyn4TMO3dn"
      }
    },
    {
      "cell_type": "code",
      "source": [
        "def precision_at_k(recommended, relevant, k):\n",
        "    recommended_k = recommended[:k]\n",
        "    return len(set(recommended_k) & set(relevant)) / k\n",
        "\n",
        "def recall_at_k(recommended, relevant, k):\n",
        "    recommended_k = recommended[:k]\n",
        "    return len(set(recommended_k) & set(relevant)) / len(relevant) if relevant else 0\n",
        "\n",
        "def ndcg_at_k(recommended, relevant, k):\n",
        "    dcg = 0.0\n",
        "    for i, item in enumerate(recommended[:k]):\n",
        "        if item in relevant:\n",
        "            dcg += 1 / np.log2(i + 2)\n",
        "    idcg = sum(1 / np.log2(i + 2) for i in range(min(len(relevant), k)))\n",
        "    return dcg / idcg if idcg > 0 else 0"
      ],
      "metadata": {
        "id": "IfxpBcrXO95d"
      },
      "execution_count": 36,
      "outputs": []
    },
    {
      "cell_type": "code",
      "source": [
        "# Pilih user secara acak\n",
        "user_id_sample = ratings['User_ID'].sample(1, random_state=42).iloc[0]\n",
        "\n",
        "# Makanan yang pernah dirating user tersebut\n",
        "rated_food_ids = ratings[ratings['User_ID'] == user_id_sample]['Food_ID'].tolist()\n",
        "\n",
        "# Ambil salah satu makanan yang pernah dirating sebagai query\n",
        "query_food = foods[foods['Food_ID'] == rated_food_ids[0]]['Name'].values[0]\n",
        "\n",
        "# Dapatkan rekomendasi CBF\n",
        "recommended_df = recommend_food(query_food, top_n=10)\n",
        "\n",
        "# Daftar Food_ID dari hasil rekomendasi\n",
        "recommended_ids = foods[foods['Name'].isin(recommended_df['Name'])]['Food_ID'].tolist()\n",
        "\n",
        "# Ground truth: makanan lain yang juga dirating user\n",
        "relevant_ids = rated_food_ids[1:]  # kecuali makanan query\n",
        "\n",
        "# Hitung metrik\n",
        "k = 5\n",
        "p_at_k = precision_at_k(recommended_ids, relevant_ids, k)\n",
        "r_at_k = recall_at_k(recommended_ids, relevant_ids, k)\n",
        "n_at_k = ndcg_at_k(recommended_ids, relevant_ids, k)\n",
        "\n",
        "print(f\"Evaluasi untuk User ID {user_id_sample} berdasarkan makanan: '{query_food}'\")\n",
        "print(f\"Precision@{k} : {p_at_k:.4f}\")\n",
        "print(f\"Recall@{k}    : {r_at_k:.4f}\")\n",
        "print(f\"NDCG@{k}      : {n_at_k:.4f}\")"
      ],
      "metadata": {
        "colab": {
          "base_uri": "https://localhost:8080/"
        },
        "id": "sEkm7b6yWm-m",
        "outputId": "c8c2a49e-160c-4794-c36e-ef19e84abc25"
      },
      "execution_count": 37,
      "outputs": [
        {
          "output_type": "stream",
          "name": "stdout",
          "text": [
            "Evaluasi untuk User ID 86 berdasarkan makanan: 'eggless vanilla cake'\n",
            "Precision@5 : 0.2000\n",
            "Recall@5    : 0.2000\n",
            "NDCG@5      : 0.1312\n"
          ]
        }
      ]
    },
    {
      "cell_type": "markdown",
      "source": [
        "## Evaluation Collaborative Filtering"
      ],
      "metadata": {
        "id": "EOAPVW27O7cD"
      }
    },
    {
      "cell_type": "code",
      "execution_count": 38,
      "metadata": {
        "colab": {
          "base_uri": "https://localhost:8080/"
        },
        "id": "xOy3rOJliSPz",
        "outputId": "636d7f25-0633-447a-a355-3d8ab70aa159"
      },
      "outputs": [
        {
          "output_type": "stream",
          "name": "stdout",
          "text": [
            "Mean Squared Error (MSE): 0.2311313513726633\n",
            "Root Mean Squared Error (RMSE): 0.4807612207454583\n"
          ]
        }
      ],
      "source": [
        "from sklearn.metrics import mean_squared_error\n",
        "\n",
        "# Ambil rating aktual untuk makanan yang sudah dirating oleh user\n",
        "actual_ratings = ratings[ratings['user'] == user_encoded]['rating_norm'].values\n",
        "\n",
        "# Pastikan panjang actual_ratings dan predicted_ratings sama\n",
        "# Hanya ambil prediksi untuk makanan yang sudah dirating\n",
        "predicted_ratings_for_actual = predicted_ratings[:len(actual_ratings)]\n",
        "\n",
        "# Hitung MSE\n",
        "mse = mean_squared_error(actual_ratings, predicted_ratings_for_actual)\n",
        "print(f\"Mean Squared Error (MSE): {mse}\")\n",
        "\n",
        "# Hitung RMSE\n",
        "rmse = np.sqrt(mse)\n",
        "print(f\"Root Mean Squared Error (RMSE): {rmse}\")"
      ]
    },
    {
      "cell_type": "markdown",
      "metadata": {
        "id": "IGJrCV6QNcnF"
      },
      "source": [
        "**Insight:**\n",
        "\n",
        "Output menunjukkan hasil evaluasi model rekomendasi menggunakan Mean Squared Error (MSE) dan Root Mean Squared Error (RMSE). Nilai MSE sekitar `0.2311313513726633` dan RMSE sekitar `0.4807612207454583` menandakan rata-rata kesalahan prediksi rating model terhadap rating aktual user tersebut. Nilai RMSE sebesar `0.4807612207454583` menunjukkan prediksi model memiliki deviasi sedang dari nilai rating sebenarnya pada skala normalisasi rating."
      ]
    }
  ],
  "metadata": {
    "colab": {
      "provenance": []
    },
    "kernelspec": {
      "display_name": "Python 3",
      "name": "python3"
    },
    "language_info": {
      "name": "python"
    }
  },
  "nbformat": 4,
  "nbformat_minor": 0
}